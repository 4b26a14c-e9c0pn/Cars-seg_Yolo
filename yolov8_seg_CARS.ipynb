{
  "nbformat": 4,
  "nbformat_minor": 0,
  "metadata": {
    "colab": {
      "provenance": [],
      "gpuType": "T4"
    },
    "kernelspec": {
      "name": "python3",
      "display_name": "Python 3"
    },
    "language_info": {
      "name": "python"
    },
    "accelerator": "GPU"
  },
  "cells": [
    {
      "cell_type": "code",
      "source": [
        "!pip install ultralytics"
      ],
      "metadata": {
        "colab": {
          "base_uri": "https://localhost:8080/"
        },
        "id": "0YdjW6RMLpLy",
        "outputId": "be53f8ee-f3e4-43ee-a5b9-a3f37fdf710e"
      },
      "execution_count": 1,
      "outputs": [
        {
          "output_type": "stream",
          "name": "stdout",
          "text": [
            "Collecting ultralytics\n",
            "  Downloading ultralytics-8.3.29-py3-none-any.whl.metadata (35 kB)\n",
            "Requirement already satisfied: numpy>=1.23.0 in /usr/local/lib/python3.10/dist-packages (from ultralytics) (1.26.4)\n",
            "Requirement already satisfied: matplotlib>=3.3.0 in /usr/local/lib/python3.10/dist-packages (from ultralytics) (3.8.0)\n",
            "Requirement already satisfied: opencv-python>=4.6.0 in /usr/local/lib/python3.10/dist-packages (from ultralytics) (4.10.0.84)\n",
            "Requirement already satisfied: pillow>=7.1.2 in /usr/local/lib/python3.10/dist-packages (from ultralytics) (11.0.0)\n",
            "Requirement already satisfied: pyyaml>=5.3.1 in /usr/local/lib/python3.10/dist-packages (from ultralytics) (6.0.2)\n",
            "Requirement already satisfied: requests>=2.23.0 in /usr/local/lib/python3.10/dist-packages (from ultralytics) (2.32.3)\n",
            "Requirement already satisfied: scipy>=1.4.1 in /usr/local/lib/python3.10/dist-packages (from ultralytics) (1.13.1)\n",
            "Requirement already satisfied: torch>=1.8.0 in /usr/local/lib/python3.10/dist-packages (from ultralytics) (2.5.0+cu121)\n",
            "Requirement already satisfied: torchvision>=0.9.0 in /usr/local/lib/python3.10/dist-packages (from ultralytics) (0.20.0+cu121)\n",
            "Requirement already satisfied: tqdm>=4.64.0 in /usr/local/lib/python3.10/dist-packages (from ultralytics) (4.66.6)\n",
            "Requirement already satisfied: psutil in /usr/local/lib/python3.10/dist-packages (from ultralytics) (5.9.5)\n",
            "Requirement already satisfied: py-cpuinfo in /usr/local/lib/python3.10/dist-packages (from ultralytics) (9.0.0)\n",
            "Requirement already satisfied: pandas>=1.1.4 in /usr/local/lib/python3.10/dist-packages (from ultralytics) (2.2.2)\n",
            "Requirement already satisfied: seaborn>=0.11.0 in /usr/local/lib/python3.10/dist-packages (from ultralytics) (0.13.2)\n",
            "Collecting ultralytics-thop>=2.0.0 (from ultralytics)\n",
            "  Downloading ultralytics_thop-2.0.11-py3-none-any.whl.metadata (9.4 kB)\n",
            "Requirement already satisfied: contourpy>=1.0.1 in /usr/local/lib/python3.10/dist-packages (from matplotlib>=3.3.0->ultralytics) (1.3.0)\n",
            "Requirement already satisfied: cycler>=0.10 in /usr/local/lib/python3.10/dist-packages (from matplotlib>=3.3.0->ultralytics) (0.12.1)\n",
            "Requirement already satisfied: fonttools>=4.22.0 in /usr/local/lib/python3.10/dist-packages (from matplotlib>=3.3.0->ultralytics) (4.54.1)\n",
            "Requirement already satisfied: kiwisolver>=1.0.1 in /usr/local/lib/python3.10/dist-packages (from matplotlib>=3.3.0->ultralytics) (1.4.7)\n",
            "Requirement already satisfied: packaging>=20.0 in /usr/local/lib/python3.10/dist-packages (from matplotlib>=3.3.0->ultralytics) (24.2)\n",
            "Requirement already satisfied: pyparsing>=2.3.1 in /usr/local/lib/python3.10/dist-packages (from matplotlib>=3.3.0->ultralytics) (3.2.0)\n",
            "Requirement already satisfied: python-dateutil>=2.7 in /usr/local/lib/python3.10/dist-packages (from matplotlib>=3.3.0->ultralytics) (2.8.2)\n",
            "Requirement already satisfied: pytz>=2020.1 in /usr/local/lib/python3.10/dist-packages (from pandas>=1.1.4->ultralytics) (2024.2)\n",
            "Requirement already satisfied: tzdata>=2022.7 in /usr/local/lib/python3.10/dist-packages (from pandas>=1.1.4->ultralytics) (2024.2)\n",
            "Requirement already satisfied: charset-normalizer<4,>=2 in /usr/local/lib/python3.10/dist-packages (from requests>=2.23.0->ultralytics) (3.4.0)\n",
            "Requirement already satisfied: idna<4,>=2.5 in /usr/local/lib/python3.10/dist-packages (from requests>=2.23.0->ultralytics) (3.10)\n",
            "Requirement already satisfied: urllib3<3,>=1.21.1 in /usr/local/lib/python3.10/dist-packages (from requests>=2.23.0->ultralytics) (2.2.3)\n",
            "Requirement already satisfied: certifi>=2017.4.17 in /usr/local/lib/python3.10/dist-packages (from requests>=2.23.0->ultralytics) (2024.8.30)\n",
            "Requirement already satisfied: filelock in /usr/local/lib/python3.10/dist-packages (from torch>=1.8.0->ultralytics) (3.16.1)\n",
            "Requirement already satisfied: typing-extensions>=4.8.0 in /usr/local/lib/python3.10/dist-packages (from torch>=1.8.0->ultralytics) (4.12.2)\n",
            "Requirement already satisfied: networkx in /usr/local/lib/python3.10/dist-packages (from torch>=1.8.0->ultralytics) (3.4.2)\n",
            "Requirement already satisfied: jinja2 in /usr/local/lib/python3.10/dist-packages (from torch>=1.8.0->ultralytics) (3.1.4)\n",
            "Requirement already satisfied: fsspec in /usr/local/lib/python3.10/dist-packages (from torch>=1.8.0->ultralytics) (2024.10.0)\n",
            "Requirement already satisfied: sympy==1.13.1 in /usr/local/lib/python3.10/dist-packages (from torch>=1.8.0->ultralytics) (1.13.1)\n",
            "Requirement already satisfied: mpmath<1.4,>=1.1.0 in /usr/local/lib/python3.10/dist-packages (from sympy==1.13.1->torch>=1.8.0->ultralytics) (1.3.0)\n",
            "Requirement already satisfied: six>=1.5 in /usr/local/lib/python3.10/dist-packages (from python-dateutil>=2.7->matplotlib>=3.3.0->ultralytics) (1.16.0)\n",
            "Requirement already satisfied: MarkupSafe>=2.0 in /usr/local/lib/python3.10/dist-packages (from jinja2->torch>=1.8.0->ultralytics) (3.0.2)\n",
            "Downloading ultralytics-8.3.29-py3-none-any.whl (883 kB)\n",
            "\u001b[2K   \u001b[90m━━━━━━━━━━━━━━━━━━━━━━━━━━━━━━━━━━━━━━━━\u001b[0m \u001b[32m883.8/883.8 kB\u001b[0m \u001b[31m28.0 MB/s\u001b[0m eta \u001b[36m0:00:00\u001b[0m\n",
            "\u001b[?25hDownloading ultralytics_thop-2.0.11-py3-none-any.whl (26 kB)\n",
            "Installing collected packages: ultralytics-thop, ultralytics\n",
            "Successfully installed ultralytics-8.3.29 ultralytics-thop-2.0.11\n"
          ]
        }
      ]
    },
    {
      "cell_type": "code",
      "source": [
        "from ultralytics import YOLO\n",
        "\n",
        "model = YOLO(\"yolo11x-seg.pt\")\n",
        "\n",
        "results = model.train(data=\"coco8-seg.yaml\", epochs=100, imgsz=640)"
      ],
      "metadata": {
        "colab": {
          "base_uri": "https://localhost:8080/"
        },
        "id": "wtwjvAXML1ZQ",
        "outputId": "14222136-ddff-44f3-cd98-4618f2a40778"
      },
      "execution_count": 15,
      "outputs": [
        {
          "output_type": "stream",
          "name": "stdout",
          "text": [
            "Downloading https://github.com/ultralytics/assets/releases/download/v8.3.0/yolo11x-seg.pt to 'yolo11x-seg.pt'...\n"
          ]
        },
        {
          "output_type": "stream",
          "name": "stderr",
          "text": [
            "100%|██████████| 119M/119M [00:02<00:00, 43.0MB/s]\n"
          ]
        },
        {
          "output_type": "stream",
          "name": "stdout",
          "text": [
            "Ultralytics 8.3.29 🚀 Python-3.10.12 torch-2.5.0+cu121 CUDA:0 (Tesla T4, 15102MiB)\n",
            "\u001b[34m\u001b[1mengine/trainer: \u001b[0mtask=segment, mode=train, model=yolo11x-seg.pt, data=coco8-seg.yaml, epochs=100, time=None, patience=100, batch=16, imgsz=640, save=True, save_period=-1, cache=False, device=None, workers=8, project=None, name=train, exist_ok=False, pretrained=True, optimizer=auto, verbose=True, seed=0, deterministic=True, single_cls=False, rect=False, cos_lr=False, close_mosaic=10, resume=False, amp=True, fraction=1.0, profile=False, freeze=None, multi_scale=False, overlap_mask=True, mask_ratio=4, dropout=0.0, val=True, split=val, save_json=False, save_hybrid=False, conf=None, iou=0.7, max_det=300, half=False, dnn=False, plots=True, source=None, vid_stride=1, stream_buffer=False, visualize=False, augment=False, agnostic_nms=False, classes=None, retina_masks=False, embed=None, show=False, save_frames=False, save_txt=False, save_conf=False, save_crop=False, show_labels=True, show_conf=True, show_boxes=True, line_width=None, format=torchscript, keras=False, optimize=False, int8=False, dynamic=False, simplify=True, opset=None, workspace=4, nms=False, lr0=0.01, lrf=0.01, momentum=0.937, weight_decay=0.0005, warmup_epochs=3.0, warmup_momentum=0.8, warmup_bias_lr=0.1, box=7.5, cls=0.5, dfl=1.5, pose=12.0, kobj=1.0, label_smoothing=0.0, nbs=64, hsv_h=0.015, hsv_s=0.7, hsv_v=0.4, degrees=0.0, translate=0.1, scale=0.5, shear=0.0, perspective=0.0, flipud=0.0, fliplr=0.5, bgr=0.0, mosaic=1.0, mixup=0.0, copy_paste=0.0, copy_paste_mode=flip, auto_augment=randaugment, erasing=0.4, crop_fraction=1.0, cfg=None, tracker=botsort.yaml, save_dir=runs/segment/train\n",
            "\n",
            "Dataset 'coco8-seg.yaml' images not found ⚠️, missing path '/content/datasets/coco8-seg/images/val'\n",
            "Downloading https://ultralytics.com/assets/coco8-seg.zip to '/content/datasets/coco8-seg.zip'...\n"
          ]
        },
        {
          "output_type": "stream",
          "name": "stderr",
          "text": [
            "100%|██████████| 439k/439k [00:00<00:00, 85.8MB/s]\n",
            "Unzipping /content/datasets/coco8-seg.zip to /content/datasets/coco8-seg...: 100%|██████████| 25/25 [00:00<00:00, 3185.13file/s]"
          ]
        },
        {
          "output_type": "stream",
          "name": "stdout",
          "text": [
            "Dataset download success ✅ (1.6s), saved to \u001b[1m/content/datasets\u001b[0m\n",
            "\n",
            "\n",
            "                   from  n    params  module                                       arguments                     \n",
            "  0                  -1  1      2784  ultralytics.nn.modules.conv.Conv             [3, 96, 3, 2]                 \n",
            "  1                  -1  1    166272  ultralytics.nn.modules.conv.Conv             [96, 192, 3, 2]               \n",
            "  2                  -1  2    389760  ultralytics.nn.modules.block.C3k2            [192, 384, 2, True, 0.25]     \n",
            "  3                  -1  1   1327872  ultralytics.nn.modules.conv.Conv             [384, 384, 3, 2]              \n",
            "  4                  -1  2   1553664  ultralytics.nn.modules.block.C3k2            [384, 768, 2, True, 0.25]     \n",
            "  5                  -1  1   5309952  ultralytics.nn.modules.conv.Conv             [768, 768, 3, 2]              \n"
          ]
        },
        {
          "output_type": "stream",
          "name": "stderr",
          "text": [
            "\n"
          ]
        },
        {
          "output_type": "stream",
          "name": "stdout",
          "text": [
            "  6                  -1  2   5022720  ultralytics.nn.modules.block.C3k2            [768, 768, 2, True]           \n",
            "  7                  -1  1   5309952  ultralytics.nn.modules.conv.Conv             [768, 768, 3, 2]              \n",
            "  8                  -1  2   5022720  ultralytics.nn.modules.block.C3k2            [768, 768, 2, True]           \n",
            "  9                  -1  1   1476864  ultralytics.nn.modules.block.SPPF            [768, 768, 5]                 \n",
            " 10                  -1  2   3264768  ultralytics.nn.modules.block.C2PSA           [768, 768, 2]                 \n",
            " 11                  -1  1         0  torch.nn.modules.upsampling.Upsample         [None, 2, 'nearest']          \n",
            " 12             [-1, 6]  1         0  ultralytics.nn.modules.conv.Concat           [1]                           \n",
            " 13                  -1  2   5612544  ultralytics.nn.modules.block.C3k2            [1536, 768, 2, True]          \n",
            " 14                  -1  1         0  torch.nn.modules.upsampling.Upsample         [None, 2, 'nearest']          \n",
            " 15             [-1, 4]  1         0  ultralytics.nn.modules.conv.Concat           [1]                           \n",
            " 16                  -1  2   1700352  ultralytics.nn.modules.block.C3k2            [1536, 384, 2, True]          \n",
            " 17                  -1  1   1327872  ultralytics.nn.modules.conv.Conv             [384, 384, 3, 2]              \n",
            " 18            [-1, 13]  1         0  ultralytics.nn.modules.conv.Concat           [1]                           \n",
            " 19                  -1  2   5317632  ultralytics.nn.modules.block.C3k2            [1152, 768, 2, True]          \n",
            " 20                  -1  1   5309952  ultralytics.nn.modules.conv.Conv             [768, 768, 3, 2]              \n",
            " 21            [-1, 10]  1         0  ultralytics.nn.modules.conv.Concat           [1]                           \n",
            " 22                  -1  2   5612544  ultralytics.nn.modules.block.C3k2            [1536, 768, 2, True]          \n",
            " 23        [16, 19, 22]  1   8414432  ultralytics.nn.modules.head.Segment          [80, 32, 384, [384, 768, 768]]\n",
            "YOLO11x-seg summary: 667 layers, 62,142,656 parameters, 62,142,640 gradients, 320.2 GFLOPs\n",
            "\n",
            "Transferred 1077/1077 items from pretrained weights\n",
            "\u001b[34m\u001b[1mTensorBoard: \u001b[0mStart with 'tensorboard --logdir runs/segment/train', view at http://localhost:6006/\n",
            "Freezing layer 'model.23.dfl.conv.weight'\n",
            "\u001b[34m\u001b[1mAMP: \u001b[0mrunning Automatic Mixed Precision (AMP) checks...\n",
            "\u001b[34m\u001b[1mAMP: \u001b[0mchecks passed ✅\n"
          ]
        },
        {
          "output_type": "stream",
          "name": "stderr",
          "text": [
            "\u001b[34m\u001b[1mtrain: \u001b[0mScanning /content/datasets/coco8-seg/labels/train... 4 images, 0 backgrounds, 0 corrupt: 100%|██████████| 4/4 [00:00<00:00, 1188.78it/s]"
          ]
        },
        {
          "output_type": "stream",
          "name": "stdout",
          "text": [
            "\u001b[34m\u001b[1mtrain: \u001b[0mNew cache created: /content/datasets/coco8-seg/labels/train.cache\n",
            "\u001b[34m\u001b[1malbumentations: \u001b[0mBlur(p=0.01, blur_limit=(3, 7)), MedianBlur(p=0.01, blur_limit=(3, 7)), ToGray(p=0.01, num_output_channels=3, method='weighted_average'), CLAHE(p=0.01, clip_limit=(1.0, 4.0), tile_grid_size=(8, 8))\n"
          ]
        },
        {
          "output_type": "stream",
          "name": "stderr",
          "text": [
            "\n",
            "\u001b[34m\u001b[1mval: \u001b[0mScanning /content/datasets/coco8-seg/labels/val... 4 images, 0 backgrounds, 0 corrupt: 100%|██████████| 4/4 [00:00<00:00, 1321.77it/s]"
          ]
        },
        {
          "output_type": "stream",
          "name": "stdout",
          "text": [
            "\u001b[34m\u001b[1mval: \u001b[0mNew cache created: /content/datasets/coco8-seg/labels/val.cache\n"
          ]
        },
        {
          "output_type": "stream",
          "name": "stderr",
          "text": [
            "\n"
          ]
        },
        {
          "output_type": "stream",
          "name": "stdout",
          "text": [
            "Plotting labels to runs/segment/train/labels.jpg... \n",
            "\u001b[34m\u001b[1moptimizer:\u001b[0m 'optimizer=auto' found, ignoring 'lr0=0.01' and 'momentum=0.937' and determining best 'optimizer', 'lr0' and 'momentum' automatically... \n",
            "\u001b[34m\u001b[1moptimizer:\u001b[0m AdamW(lr=0.000119, momentum=0.9) with parameter groups 176 weight(decay=0.0), 187 weight(decay=0.0005), 186 bias(decay=0.0)\n",
            "\u001b[34m\u001b[1mTensorBoard: \u001b[0mmodel graph visualization added ✅\n",
            "Image sizes 640 train, 640 val\n",
            "Using 2 dataloader workers\n",
            "Logging results to \u001b[1mruns/segment/train\u001b[0m\n",
            "Starting training for 100 epochs...\n",
            "\n",
            "      Epoch    GPU_mem   box_loss   seg_loss   cls_loss   dfl_loss  Instances       Size\n"
          ]
        },
        {
          "output_type": "stream",
          "name": "stderr",
          "text": [
            "      1/100      6.76G     0.6196      1.851      1.692      1.096         30        640: 100%|██████████| 1/1 [00:02<00:00,  2.36s/it]\n",
            "                 Class     Images  Instances      Box(P          R      mAP50  mAP50-95)     Mask(P          R      mAP50  mAP50-95): 100%|██████████| 1/1 [00:00<00:00,  1.97it/s]"
          ]
        },
        {
          "output_type": "stream",
          "name": "stdout",
          "text": [
            "                   all          4         17      0.909      0.951      0.976      0.848      0.926      0.927      0.964      0.721\n"
          ]
        },
        {
          "output_type": "stream",
          "name": "stderr",
          "text": [
            "\n"
          ]
        },
        {
          "output_type": "stream",
          "name": "stdout",
          "text": [
            "\n",
            "      Epoch    GPU_mem   box_loss   seg_loss   cls_loss   dfl_loss  Instances       Size\n"
          ]
        },
        {
          "output_type": "stream",
          "name": "stderr",
          "text": [
            "      2/100      6.17G     0.8954       2.74      2.766      1.384         36        640: 100%|██████████| 1/1 [00:00<00:00,  1.82it/s]\n",
            "                 Class     Images  Instances      Box(P          R      mAP50  mAP50-95)     Mask(P          R      mAP50  mAP50-95): 100%|██████████| 1/1 [00:00<00:00,  3.75it/s]"
          ]
        },
        {
          "output_type": "stream",
          "name": "stdout",
          "text": [
            "                   all          4         17      0.908       0.95      0.978      0.844      0.926      0.926      0.965      0.721\n"
          ]
        },
        {
          "output_type": "stream",
          "name": "stderr",
          "text": [
            "\n"
          ]
        },
        {
          "output_type": "stream",
          "name": "stdout",
          "text": [
            "\n",
            "      Epoch    GPU_mem   box_loss   seg_loss   cls_loss   dfl_loss  Instances       Size\n"
          ]
        },
        {
          "output_type": "stream",
          "name": "stderr",
          "text": [
            "      3/100      6.09G      0.565      1.656      1.421      1.061         17        640: 100%|██████████| 1/1 [00:00<00:00,  2.11it/s]\n",
            "                 Class     Images  Instances      Box(P          R      mAP50  mAP50-95)     Mask(P          R      mAP50  mAP50-95): 100%|██████████| 1/1 [00:00<00:00,  5.20it/s]\n"
          ]
        },
        {
          "output_type": "stream",
          "name": "stdout",
          "text": [
            "                   all          4         17      0.907       0.95      0.978      0.844      0.926      0.922      0.948       0.72\n",
            "\n",
            "      Epoch    GPU_mem   box_loss   seg_loss   cls_loss   dfl_loss  Instances       Size\n"
          ]
        },
        {
          "output_type": "stream",
          "name": "stderr",
          "text": [
            "      4/100      6.17G      0.515      1.761     0.9119     0.9293         32        640: 100%|██████████| 1/1 [00:00<00:00,  1.65it/s]\n",
            "                 Class     Images  Instances      Box(P          R      mAP50  mAP50-95)     Mask(P          R      mAP50  mAP50-95): 100%|██████████| 1/1 [00:00<00:00,  5.82it/s]"
          ]
        },
        {
          "output_type": "stream",
          "name": "stdout",
          "text": [
            "                   all          4         17      0.907      0.944      0.978      0.844      0.925      0.923      0.964      0.721\n"
          ]
        },
        {
          "output_type": "stream",
          "name": "stderr",
          "text": [
            "\n"
          ]
        },
        {
          "output_type": "stream",
          "name": "stdout",
          "text": [
            "\n",
            "      Epoch    GPU_mem   box_loss   seg_loss   cls_loss   dfl_loss  Instances       Size\n"
          ]
        },
        {
          "output_type": "stream",
          "name": "stderr",
          "text": [
            "      5/100       6.2G     0.5368      1.314     0.8616     0.9749         34        640: 100%|██████████| 1/1 [00:00<00:00,  1.99it/s]\n",
            "                 Class     Images  Instances      Box(P          R      mAP50  mAP50-95)     Mask(P          R      mAP50  mAP50-95): 100%|██████████| 1/1 [00:00<00:00,  5.78it/s]"
          ]
        },
        {
          "output_type": "stream",
          "name": "stdout",
          "text": [
            "                   all          4         17      0.906      0.935      0.978      0.844      0.923      0.925      0.948      0.719\n"
          ]
        },
        {
          "output_type": "stream",
          "name": "stderr",
          "text": [
            "\n"
          ]
        },
        {
          "output_type": "stream",
          "name": "stdout",
          "text": [
            "\n",
            "      Epoch    GPU_mem   box_loss   seg_loss   cls_loss   dfl_loss  Instances       Size\n"
          ]
        },
        {
          "output_type": "stream",
          "name": "stderr",
          "text": [
            "      6/100      6.65G      0.612      2.252      1.391      1.112         29        640: 100%|██████████| 1/1 [00:00<00:00,  1.94it/s]\n",
            "                 Class     Images  Instances      Box(P          R      mAP50  mAP50-95)     Mask(P          R      mAP50  mAP50-95): 100%|██████████| 1/1 [00:00<00:00,  5.91it/s]"
          ]
        },
        {
          "output_type": "stream",
          "name": "stdout",
          "text": [
            "                   all          4         17      0.884       0.93      0.978      0.844      0.899       0.92      0.963      0.705\n"
          ]
        },
        {
          "output_type": "stream",
          "name": "stderr",
          "text": [
            "\n"
          ]
        },
        {
          "output_type": "stream",
          "name": "stdout",
          "text": [
            "\n",
            "      Epoch    GPU_mem   box_loss   seg_loss   cls_loss   dfl_loss  Instances       Size\n"
          ]
        },
        {
          "output_type": "stream",
          "name": "stderr",
          "text": [
            "      7/100      6.64G     0.5514      1.516     0.8178      1.015         20        640: 100%|██████████| 1/1 [00:00<00:00,  2.07it/s]\n",
            "                 Class     Images  Instances      Box(P          R      mAP50  mAP50-95)     Mask(P          R      mAP50  mAP50-95): 100%|██████████| 1/1 [00:00<00:00,  5.97it/s]\n"
          ]
        },
        {
          "output_type": "stream",
          "name": "stdout",
          "text": [
            "                   all          4         17      0.897      0.919      0.978      0.836      0.897      0.919      0.964      0.705\n",
            "\n",
            "      Epoch    GPU_mem   box_loss   seg_loss   cls_loss   dfl_loss  Instances       Size\n"
          ]
        },
        {
          "output_type": "stream",
          "name": "stderr",
          "text": [
            "      8/100      6.62G     0.5181      1.549     0.7906      1.038         26        640: 100%|██████████| 1/1 [00:00<00:00,  2.18it/s]\n",
            "                 Class     Images  Instances      Box(P          R      mAP50  mAP50-95)     Mask(P          R      mAP50  mAP50-95): 100%|██████████| 1/1 [00:00<00:00,  6.07it/s]\n"
          ]
        },
        {
          "output_type": "stream",
          "name": "stdout",
          "text": [
            "                   all          4         17      0.895      0.919      0.978      0.836      0.895      0.919      0.964      0.722\n",
            "\n",
            "      Epoch    GPU_mem   box_loss   seg_loss   cls_loss   dfl_loss  Instances       Size\n"
          ]
        },
        {
          "output_type": "stream",
          "name": "stderr",
          "text": [
            "      9/100      6.66G     0.4197      1.091     0.4767     0.9506         29        640: 100%|██████████| 1/1 [00:00<00:00,  1.54it/s]\n",
            "                 Class     Images  Instances      Box(P          R      mAP50  mAP50-95)     Mask(P          R      mAP50  mAP50-95): 100%|██████████| 1/1 [00:00<00:00,  5.08it/s]"
          ]
        },
        {
          "output_type": "stream",
          "name": "stdout",
          "text": [
            "                   all          4         17      0.874      0.931      0.978      0.838      0.874      0.931      0.978      0.728\n"
          ]
        },
        {
          "output_type": "stream",
          "name": "stderr",
          "text": [
            "\n"
          ]
        },
        {
          "output_type": "stream",
          "name": "stdout",
          "text": [
            "\n",
            "      Epoch    GPU_mem   box_loss   seg_loss   cls_loss   dfl_loss  Instances       Size\n"
          ]
        },
        {
          "output_type": "stream",
          "name": "stderr",
          "text": [
            "     10/100      6.71G     0.6668      1.518      1.247      1.078         41        640: 100%|██████████| 1/1 [00:00<00:00,  2.07it/s]\n",
            "                 Class     Images  Instances      Box(P          R      mAP50  mAP50-95)     Mask(P          R      mAP50  mAP50-95): 100%|██████████| 1/1 [00:00<00:00,  6.08it/s]\n"
          ]
        },
        {
          "output_type": "stream",
          "name": "stdout",
          "text": [
            "                   all          4         17      0.887      0.919      0.976      0.837      0.887      0.919      0.976      0.712\n",
            "\n",
            "      Epoch    GPU_mem   box_loss   seg_loss   cls_loss   dfl_loss  Instances       Size\n"
          ]
        },
        {
          "output_type": "stream",
          "name": "stderr",
          "text": [
            "     11/100       6.6G     0.4974      1.121     0.6017      1.049         12        640: 100%|██████████| 1/1 [00:00<00:00,  1.67it/s]\n",
            "                 Class     Images  Instances      Box(P          R      mAP50  mAP50-95)     Mask(P          R      mAP50  mAP50-95): 100%|██████████| 1/1 [00:00<00:00,  5.13it/s]\n"
          ]
        },
        {
          "output_type": "stream",
          "name": "stdout",
          "text": [
            "                   all          4         17      0.882      0.917      0.978      0.837      0.882      0.917       0.96      0.691\n",
            "\n",
            "      Epoch    GPU_mem   box_loss   seg_loss   cls_loss   dfl_loss  Instances       Size\n"
          ]
        },
        {
          "output_type": "stream",
          "name": "stderr",
          "text": [
            "     12/100      6.64G     0.4403      1.076     0.4122     0.9363         27        640: 100%|██████████| 1/1 [00:00<00:00,  1.56it/s]\n",
            "                 Class     Images  Instances      Box(P          R      mAP50  mAP50-95)     Mask(P          R      mAP50  mAP50-95): 100%|██████████| 1/1 [00:00<00:00,  4.94it/s]"
          ]
        },
        {
          "output_type": "stream",
          "name": "stdout",
          "text": [
            "                   all          4         17      0.878      0.915      0.978      0.835      0.878      0.915       0.96      0.709\n"
          ]
        },
        {
          "output_type": "stream",
          "name": "stderr",
          "text": [
            "\n"
          ]
        },
        {
          "output_type": "stream",
          "name": "stdout",
          "text": [
            "\n",
            "      Epoch    GPU_mem   box_loss   seg_loss   cls_loss   dfl_loss  Instances       Size\n"
          ]
        },
        {
          "output_type": "stream",
          "name": "stderr",
          "text": [
            "     13/100      6.67G     0.5145     0.8815     0.4063     0.9661         32        640: 100%|██████████| 1/1 [00:00<00:00,  2.02it/s]\n",
            "                 Class     Images  Instances      Box(P          R      mAP50  mAP50-95)     Mask(P          R      mAP50  mAP50-95): 100%|██████████| 1/1 [00:00<00:00,  5.98it/s]\n"
          ]
        },
        {
          "output_type": "stream",
          "name": "stdout",
          "text": [
            "                   all          4         17      0.874      0.911      0.979      0.833      0.874      0.911      0.962      0.708\n",
            "\n",
            "      Epoch    GPU_mem   box_loss   seg_loss   cls_loss   dfl_loss  Instances       Size\n"
          ]
        },
        {
          "output_type": "stream",
          "name": "stderr",
          "text": [
            "     14/100      6.59G       0.42      1.102     0.4471     0.9587         13        640: 100%|██████████| 1/1 [00:00<00:00,  2.08it/s]\n",
            "                 Class     Images  Instances      Box(P          R      mAP50  mAP50-95)     Mask(P          R      mAP50  mAP50-95): 100%|██████████| 1/1 [00:00<00:00,  5.94it/s]"
          ]
        },
        {
          "output_type": "stream",
          "name": "stdout",
          "text": [
            "                   all          4         17      0.882      0.893      0.979      0.832      0.882      0.893      0.962      0.708\n"
          ]
        },
        {
          "output_type": "stream",
          "name": "stderr",
          "text": [
            "\n"
          ]
        },
        {
          "output_type": "stream",
          "name": "stdout",
          "text": [
            "\n",
            "      Epoch    GPU_mem   box_loss   seg_loss   cls_loss   dfl_loss  Instances       Size\n"
          ]
        },
        {
          "output_type": "stream",
          "name": "stderr",
          "text": [
            "     15/100      6.66G     0.6671      1.214     0.5879      1.025         33        640: 100%|██████████| 1/1 [00:00<00:00,  1.26it/s]\n",
            "                 Class     Images  Instances      Box(P          R      mAP50  mAP50-95)     Mask(P          R      mAP50  mAP50-95): 100%|██████████| 1/1 [00:00<00:00,  5.70it/s]"
          ]
        },
        {
          "output_type": "stream",
          "name": "stdout",
          "text": [
            "                   all          4         17      0.869      0.945      0.979      0.831      0.878       0.93      0.962      0.708\n"
          ]
        },
        {
          "output_type": "stream",
          "name": "stderr",
          "text": [
            "\n"
          ]
        },
        {
          "output_type": "stream",
          "name": "stdout",
          "text": [
            "\n",
            "      Epoch    GPU_mem   box_loss   seg_loss   cls_loss   dfl_loss  Instances       Size\n"
          ]
        },
        {
          "output_type": "stream",
          "name": "stderr",
          "text": [
            "     16/100      6.65G     0.4822     0.9287     0.4335     0.9217         32        640: 100%|██████████| 1/1 [00:00<00:00,  1.68it/s]\n",
            "                 Class     Images  Instances      Box(P          R      mAP50  mAP50-95)     Mask(P          R      mAP50  mAP50-95): 100%|██████████| 1/1 [00:00<00:00,  5.01it/s]"
          ]
        },
        {
          "output_type": "stream",
          "name": "stdout",
          "text": [
            "                   all          4         17      0.864      0.946       0.98      0.822      0.872      0.929      0.962      0.708\n"
          ]
        },
        {
          "output_type": "stream",
          "name": "stderr",
          "text": [
            "\n"
          ]
        },
        {
          "output_type": "stream",
          "name": "stdout",
          "text": [
            "\n",
            "      Epoch    GPU_mem   box_loss   seg_loss   cls_loss   dfl_loss  Instances       Size\n"
          ]
        },
        {
          "output_type": "stream",
          "name": "stderr",
          "text": [
            "     17/100      6.64G     0.5192      1.397     0.6409      1.056         27        640: 100%|██████████| 1/1 [00:00<00:00,  2.10it/s]\n",
            "                 Class     Images  Instances      Box(P          R      mAP50  mAP50-95)     Mask(P          R      mAP50  mAP50-95): 100%|██████████| 1/1 [00:00<00:00,  5.67it/s]"
          ]
        },
        {
          "output_type": "stream",
          "name": "stdout",
          "text": [
            "                   all          4         17      0.862      0.943       0.98      0.846      0.886      0.908       0.96      0.702\n"
          ]
        },
        {
          "output_type": "stream",
          "name": "stderr",
          "text": [
            "\n"
          ]
        },
        {
          "output_type": "stream",
          "name": "stdout",
          "text": [
            "\n",
            "      Epoch    GPU_mem   box_loss   seg_loss   cls_loss   dfl_loss  Instances       Size\n"
          ]
        },
        {
          "output_type": "stream",
          "name": "stderr",
          "text": [
            "     18/100      6.64G     0.4357     0.9225     0.3118     0.9171         24        640: 100%|██████████| 1/1 [00:00<00:00,  2.32it/s]\n",
            "                 Class     Images  Instances      Box(P          R      mAP50  mAP50-95)     Mask(P          R      mAP50  mAP50-95): 100%|██████████| 1/1 [00:00<00:00,  6.05it/s]"
          ]
        },
        {
          "output_type": "stream",
          "name": "stdout",
          "text": [
            "                   all          4         17      0.862      0.943       0.98      0.846      0.886      0.908       0.96      0.702\n"
          ]
        },
        {
          "output_type": "stream",
          "name": "stderr",
          "text": [
            "\n"
          ]
        },
        {
          "output_type": "stream",
          "name": "stdout",
          "text": [
            "\n",
            "      Epoch    GPU_mem   box_loss   seg_loss   cls_loss   dfl_loss  Instances       Size\n"
          ]
        },
        {
          "output_type": "stream",
          "name": "stderr",
          "text": [
            "     19/100      6.73G     0.5394      1.142     0.5249      1.069         29        640: 100%|██████████| 1/1 [00:00<00:00,  2.02it/s]\n",
            "                 Class     Images  Instances      Box(P          R      mAP50  mAP50-95)     Mask(P          R      mAP50  mAP50-95): 100%|██████████| 1/1 [00:00<00:00,  5.84it/s]"
          ]
        },
        {
          "output_type": "stream",
          "name": "stdout",
          "text": [
            "                   all          4         17      0.919      0.823      0.952       0.83      0.919      0.823      0.934      0.698\n"
          ]
        },
        {
          "output_type": "stream",
          "name": "stderr",
          "text": [
            "\n"
          ]
        },
        {
          "output_type": "stream",
          "name": "stdout",
          "text": [
            "\n",
            "      Epoch    GPU_mem   box_loss   seg_loss   cls_loss   dfl_loss  Instances       Size\n"
          ]
        },
        {
          "output_type": "stream",
          "name": "stderr",
          "text": [
            "     20/100      6.69G     0.4947      0.976     0.4211     0.9011         39        640: 100%|██████████| 1/1 [00:00<00:00,  2.31it/s]\n",
            "                 Class     Images  Instances      Box(P          R      mAP50  mAP50-95)     Mask(P          R      mAP50  mAP50-95): 100%|██████████| 1/1 [00:00<00:00,  5.85it/s]"
          ]
        },
        {
          "output_type": "stream",
          "name": "stdout",
          "text": [
            "                   all          4         17      0.919      0.823      0.952       0.83      0.919      0.823      0.934      0.698\n"
          ]
        },
        {
          "output_type": "stream",
          "name": "stderr",
          "text": [
            "\n"
          ]
        },
        {
          "output_type": "stream",
          "name": "stdout",
          "text": [
            "\n",
            "      Epoch    GPU_mem   box_loss   seg_loss   cls_loss   dfl_loss  Instances       Size\n"
          ]
        },
        {
          "output_type": "stream",
          "name": "stderr",
          "text": [
            "     21/100      6.74G     0.5323      1.122     0.4049     0.9696         29        640: 100%|██████████| 1/1 [00:00<00:00,  1.57it/s]\n",
            "                 Class     Images  Instances      Box(P          R      mAP50  mAP50-95)     Mask(P          R      mAP50  mAP50-95): 100%|██████████| 1/1 [00:00<00:00,  6.09it/s]"
          ]
        },
        {
          "output_type": "stream",
          "name": "stdout",
          "text": [
            "                   all          4         17      0.924      0.822      0.952      0.826      0.924      0.822      0.932       0.68\n"
          ]
        },
        {
          "output_type": "stream",
          "name": "stderr",
          "text": [
            "\n"
          ]
        },
        {
          "output_type": "stream",
          "name": "stdout",
          "text": [
            "\n",
            "      Epoch    GPU_mem   box_loss   seg_loss   cls_loss   dfl_loss  Instances       Size\n"
          ]
        },
        {
          "output_type": "stream",
          "name": "stderr",
          "text": [
            "     22/100      6.67G     0.4576     0.9932     0.2829      0.932         28        640: 100%|██████████| 1/1 [00:00<00:00,  2.38it/s]\n",
            "                 Class     Images  Instances      Box(P          R      mAP50  mAP50-95)     Mask(P          R      mAP50  mAP50-95): 100%|██████████| 1/1 [00:00<00:00,  5.95it/s]"
          ]
        },
        {
          "output_type": "stream",
          "name": "stdout",
          "text": [
            "                   all          4         17      0.924      0.822      0.952      0.826      0.924      0.822      0.932       0.68\n"
          ]
        },
        {
          "output_type": "stream",
          "name": "stderr",
          "text": [
            "\n"
          ]
        },
        {
          "output_type": "stream",
          "name": "stdout",
          "text": [
            "\n",
            "      Epoch    GPU_mem   box_loss   seg_loss   cls_loss   dfl_loss  Instances       Size\n"
          ]
        },
        {
          "output_type": "stream",
          "name": "stderr",
          "text": [
            "     23/100      6.69G     0.4012     0.8459     0.4724     0.8997         16        640: 100%|██████████| 1/1 [00:00<00:00,  2.09it/s]\n",
            "                 Class     Images  Instances      Box(P          R      mAP50  mAP50-95)     Mask(P          R      mAP50  mAP50-95): 100%|██████████| 1/1 [00:00<00:00,  5.74it/s]"
          ]
        },
        {
          "output_type": "stream",
          "name": "stdout",
          "text": [
            "                   all          4         17      0.916      0.825      0.952      0.809      0.916      0.825      0.932      0.667\n"
          ]
        },
        {
          "output_type": "stream",
          "name": "stderr",
          "text": [
            "\n"
          ]
        },
        {
          "output_type": "stream",
          "name": "stdout",
          "text": [
            "\n",
            "      Epoch    GPU_mem   box_loss   seg_loss   cls_loss   dfl_loss  Instances       Size\n"
          ]
        },
        {
          "output_type": "stream",
          "name": "stderr",
          "text": [
            "     24/100      6.62G     0.4516     0.8814     0.4029     0.9233         20        640: 100%|██████████| 1/1 [00:00<00:00,  1.96it/s]\n",
            "                 Class     Images  Instances      Box(P          R      mAP50  mAP50-95)     Mask(P          R      mAP50  mAP50-95): 100%|██████████| 1/1 [00:00<00:00,  5.74it/s]"
          ]
        },
        {
          "output_type": "stream",
          "name": "stdout",
          "text": [
            "                   all          4         17      0.916      0.825      0.952      0.809      0.916      0.825      0.932      0.667\n"
          ]
        },
        {
          "output_type": "stream",
          "name": "stderr",
          "text": [
            "\n"
          ]
        },
        {
          "output_type": "stream",
          "name": "stdout",
          "text": [
            "\n",
            "      Epoch    GPU_mem   box_loss   seg_loss   cls_loss   dfl_loss  Instances       Size\n"
          ]
        },
        {
          "output_type": "stream",
          "name": "stderr",
          "text": [
            "     25/100      6.67G      0.262     0.6723     0.2554     0.9561          9        640: 100%|██████████| 1/1 [00:00<00:00,  2.06it/s]\n",
            "                 Class     Images  Instances      Box(P          R      mAP50  mAP50-95)     Mask(P          R      mAP50  mAP50-95): 100%|██████████| 1/1 [00:00<00:00,  5.92it/s]"
          ]
        },
        {
          "output_type": "stream",
          "name": "stdout",
          "text": [
            "                   all          4         17      0.876      0.834      0.952      0.809      0.876      0.834      0.933      0.667\n"
          ]
        },
        {
          "output_type": "stream",
          "name": "stderr",
          "text": [
            "\n"
          ]
        },
        {
          "output_type": "stream",
          "name": "stdout",
          "text": [
            "\n",
            "      Epoch    GPU_mem   box_loss   seg_loss   cls_loss   dfl_loss  Instances       Size\n"
          ]
        },
        {
          "output_type": "stream",
          "name": "stderr",
          "text": [
            "     26/100      6.65G      0.394      0.882     0.4371     0.9531         30        640: 100%|██████████| 1/1 [00:00<00:00,  1.95it/s]\n",
            "                 Class     Images  Instances      Box(P          R      mAP50  mAP50-95)     Mask(P          R      mAP50  mAP50-95): 100%|██████████| 1/1 [00:00<00:00,  5.89it/s]"
          ]
        },
        {
          "output_type": "stream",
          "name": "stdout",
          "text": [
            "                   all          4         17      0.876      0.834      0.952      0.809      0.876      0.834      0.933      0.667\n"
          ]
        },
        {
          "output_type": "stream",
          "name": "stderr",
          "text": [
            "\n"
          ]
        },
        {
          "output_type": "stream",
          "name": "stdout",
          "text": [
            "\n",
            "      Epoch    GPU_mem   box_loss   seg_loss   cls_loss   dfl_loss  Instances       Size\n"
          ]
        },
        {
          "output_type": "stream",
          "name": "stderr",
          "text": [
            "     27/100      6.75G     0.4066     0.8448     0.3434     0.9354         38        640: 100%|██████████| 1/1 [00:00<00:00,  1.76it/s]\n",
            "                 Class     Images  Instances      Box(P          R      mAP50  mAP50-95)     Mask(P          R      mAP50  mAP50-95): 100%|██████████| 1/1 [00:00<00:00,  4.99it/s]"
          ]
        },
        {
          "output_type": "stream",
          "name": "stdout",
          "text": [
            "                   all          4         17      0.854      0.836      0.952      0.804      0.854      0.836      0.933      0.666\n"
          ]
        },
        {
          "output_type": "stream",
          "name": "stderr",
          "text": [
            "\n"
          ]
        },
        {
          "output_type": "stream",
          "name": "stdout",
          "text": [
            "\n",
            "      Epoch    GPU_mem   box_loss   seg_loss   cls_loss   dfl_loss  Instances       Size\n"
          ]
        },
        {
          "output_type": "stream",
          "name": "stderr",
          "text": [
            "     28/100      6.65G     0.4827     0.7999     0.2979      1.001         27        640: 100%|██████████| 1/1 [00:00<00:00,  2.42it/s]\n",
            "                 Class     Images  Instances      Box(P          R      mAP50  mAP50-95)     Mask(P          R      mAP50  mAP50-95): 100%|██████████| 1/1 [00:00<00:00,  6.13it/s]\n"
          ]
        },
        {
          "output_type": "stream",
          "name": "stdout",
          "text": [
            "                   all          4         17      0.854      0.836      0.952      0.804      0.854      0.836      0.933      0.666\n",
            "\n",
            "      Epoch    GPU_mem   box_loss   seg_loss   cls_loss   dfl_loss  Instances       Size\n"
          ]
        },
        {
          "output_type": "stream",
          "name": "stderr",
          "text": [
            "     29/100      6.75G     0.4289     0.7122     0.2422     0.9339         37        640: 100%|██████████| 1/1 [00:00<00:00,  1.76it/s]\n",
            "                 Class     Images  Instances      Box(P          R      mAP50  mAP50-95)     Mask(P          R      mAP50  mAP50-95): 100%|██████████| 1/1 [00:00<00:00,  4.55it/s]"
          ]
        },
        {
          "output_type": "stream",
          "name": "stdout",
          "text": [
            "                   all          4         17      0.812      0.842       0.95      0.795      0.797      0.833      0.929      0.665\n"
          ]
        },
        {
          "output_type": "stream",
          "name": "stderr",
          "text": [
            "\n"
          ]
        },
        {
          "output_type": "stream",
          "name": "stdout",
          "text": [
            "\n",
            "      Epoch    GPU_mem   box_loss   seg_loss   cls_loss   dfl_loss  Instances       Size\n"
          ]
        },
        {
          "output_type": "stream",
          "name": "stderr",
          "text": [
            "     30/100      6.68G     0.5939      1.083     0.3558      1.069         34        640: 100%|██████████| 1/1 [00:00<00:00,  2.30it/s]\n",
            "                 Class     Images  Instances      Box(P          R      mAP50  mAP50-95)     Mask(P          R      mAP50  mAP50-95): 100%|██████████| 1/1 [00:00<00:00,  5.96it/s]\n"
          ]
        },
        {
          "output_type": "stream",
          "name": "stdout",
          "text": [
            "                   all          4         17      0.812      0.842       0.95      0.795      0.797      0.833      0.929      0.665\n",
            "\n",
            "      Epoch    GPU_mem   box_loss   seg_loss   cls_loss   dfl_loss  Instances       Size\n"
          ]
        },
        {
          "output_type": "stream",
          "name": "stderr",
          "text": [
            "     31/100      6.73G     0.2926     0.5869     0.2151     0.8432         28        640: 100%|██████████| 1/1 [00:00<00:00,  2.07it/s]\n",
            "                 Class     Images  Instances      Box(P          R      mAP50  mAP50-95)     Mask(P          R      mAP50  mAP50-95): 100%|██████████| 1/1 [00:00<00:00,  6.20it/s]\n"
          ]
        },
        {
          "output_type": "stream",
          "name": "stdout",
          "text": [
            "                   all          4         17      0.741      0.856      0.951      0.795      0.714      0.839      0.884      0.651\n",
            "\n",
            "      Epoch    GPU_mem   box_loss   seg_loss   cls_loss   dfl_loss  Instances       Size\n"
          ]
        },
        {
          "output_type": "stream",
          "name": "stderr",
          "text": [
            "     32/100      6.61G     0.3474     0.8085     0.2518     0.9294         16        640: 100%|██████████| 1/1 [00:00<00:00,  2.53it/s]\n",
            "                 Class     Images  Instances      Box(P          R      mAP50  mAP50-95)     Mask(P          R      mAP50  mAP50-95): 100%|██████████| 1/1 [00:00<00:00,  6.09it/s]\n"
          ]
        },
        {
          "output_type": "stream",
          "name": "stdout",
          "text": [
            "                   all          4         17      0.741      0.856      0.951      0.795      0.714      0.839      0.884      0.651\n",
            "\n",
            "      Epoch    GPU_mem   box_loss   seg_loss   cls_loss   dfl_loss  Instances       Size\n"
          ]
        },
        {
          "output_type": "stream",
          "name": "stderr",
          "text": [
            "     33/100      6.72G     0.4212     0.7742     0.3016     0.9158         30        640: 100%|██████████| 1/1 [00:00<00:00,  1.40it/s]\n",
            "                 Class     Images  Instances      Box(P          R      mAP50  mAP50-95)     Mask(P          R      mAP50  mAP50-95): 100%|██████████| 1/1 [00:00<00:00,  5.35it/s]\n"
          ]
        },
        {
          "output_type": "stream",
          "name": "stdout",
          "text": [
            "                   all          4         17      0.701      0.867      0.949       0.79      0.678       0.85      0.886      0.654\n",
            "\n",
            "      Epoch    GPU_mem   box_loss   seg_loss   cls_loss   dfl_loss  Instances       Size\n"
          ]
        },
        {
          "output_type": "stream",
          "name": "stderr",
          "text": [
            "     34/100      6.74G     0.4991     0.9595     0.4582     0.9225         45        640: 100%|██████████| 1/1 [00:00<00:00,  2.42it/s]\n",
            "                 Class     Images  Instances      Box(P          R      mAP50  mAP50-95)     Mask(P          R      mAP50  mAP50-95): 100%|██████████| 1/1 [00:00<00:00,  6.12it/s]\n"
          ]
        },
        {
          "output_type": "stream",
          "name": "stdout",
          "text": [
            "                   all          4         17      0.701      0.867      0.949       0.79      0.678       0.85      0.886      0.654\n",
            "\n",
            "      Epoch    GPU_mem   box_loss   seg_loss   cls_loss   dfl_loss  Instances       Size\n"
          ]
        },
        {
          "output_type": "stream",
          "name": "stderr",
          "text": [
            "     35/100      6.77G     0.4226     0.8018     0.3069     0.8757         46        640: 100%|██████████| 1/1 [00:00<00:00,  2.06it/s]\n",
            "                 Class     Images  Instances      Box(P          R      mAP50  mAP50-95)     Mask(P          R      mAP50  mAP50-95): 100%|██████████| 1/1 [00:00<00:00,  6.24it/s]\n"
          ]
        },
        {
          "output_type": "stream",
          "name": "stdout",
          "text": [
            "                   all          4         17      0.647      0.888      0.921      0.735      0.629      0.871      0.828      0.623\n",
            "\n",
            "      Epoch    GPU_mem   box_loss   seg_loss   cls_loss   dfl_loss  Instances       Size\n"
          ]
        },
        {
          "output_type": "stream",
          "name": "stderr",
          "text": [
            "     36/100      6.62G     0.4528     0.9615     0.3511     0.9629         20        640: 100%|██████████| 1/1 [00:00<00:00,  2.47it/s]\n",
            "                 Class     Images  Instances      Box(P          R      mAP50  mAP50-95)     Mask(P          R      mAP50  mAP50-95): 100%|██████████| 1/1 [00:00<00:00,  5.29it/s]\n"
          ]
        },
        {
          "output_type": "stream",
          "name": "stdout",
          "text": [
            "                   all          4         17      0.647      0.888      0.921      0.735      0.629      0.871      0.828      0.623\n",
            "\n",
            "      Epoch    GPU_mem   box_loss   seg_loss   cls_loss   dfl_loss  Instances       Size\n"
          ]
        },
        {
          "output_type": "stream",
          "name": "stderr",
          "text": [
            "     37/100       6.7G     0.4981      1.022     0.5557     0.9436         21        640: 100%|██████████| 1/1 [00:00<00:00,  1.60it/s]\n",
            "                 Class     Images  Instances      Box(P          R      mAP50  mAP50-95)     Mask(P          R      mAP50  mAP50-95): 100%|██████████| 1/1 [00:00<00:00,  4.90it/s]"
          ]
        },
        {
          "output_type": "stream",
          "name": "stdout",
          "text": [
            "                   all          4         17      0.643        0.9      0.874      0.719      0.622      0.883      0.826      0.629\n"
          ]
        },
        {
          "output_type": "stream",
          "name": "stderr",
          "text": [
            "\n"
          ]
        },
        {
          "output_type": "stream",
          "name": "stdout",
          "text": [
            "\n",
            "      Epoch    GPU_mem   box_loss   seg_loss   cls_loss   dfl_loss  Instances       Size\n"
          ]
        },
        {
          "output_type": "stream",
          "name": "stderr",
          "text": [
            "     38/100      6.71G     0.3653     0.6444     0.2976     0.8583         38        640: 100%|██████████| 1/1 [00:00<00:00,  2.16it/s]\n",
            "                 Class     Images  Instances      Box(P          R      mAP50  mAP50-95)     Mask(P          R      mAP50  mAP50-95): 100%|██████████| 1/1 [00:00<00:00,  6.13it/s]\n"
          ]
        },
        {
          "output_type": "stream",
          "name": "stdout",
          "text": [
            "                   all          4         17      0.643        0.9      0.874      0.719      0.622      0.883      0.826      0.629\n",
            "\n",
            "      Epoch    GPU_mem   box_loss   seg_loss   cls_loss   dfl_loss  Instances       Size\n"
          ]
        },
        {
          "output_type": "stream",
          "name": "stderr",
          "text": [
            "     39/100      6.72G     0.4145     0.6783     0.2819     0.9112         23        640: 100%|██████████| 1/1 [00:00<00:00,  2.05it/s]\n",
            "                 Class     Images  Instances      Box(P          R      mAP50  mAP50-95)     Mask(P          R      mAP50  mAP50-95): 100%|██████████| 1/1 [00:00<00:00,  6.09it/s]"
          ]
        },
        {
          "output_type": "stream",
          "name": "stdout",
          "text": [
            "                   all          4         17      0.687       0.73      0.873      0.703       0.67      0.714      0.824      0.621\n"
          ]
        },
        {
          "output_type": "stream",
          "name": "stderr",
          "text": [
            "\n"
          ]
        },
        {
          "output_type": "stream",
          "name": "stdout",
          "text": [
            "\n",
            "      Epoch    GPU_mem   box_loss   seg_loss   cls_loss   dfl_loss  Instances       Size\n"
          ]
        },
        {
          "output_type": "stream",
          "name": "stderr",
          "text": [
            "     40/100      6.62G     0.3515     0.5838     0.3306      0.938         24        640: 100%|██████████| 1/1 [00:00<00:00,  1.89it/s]\n",
            "                 Class     Images  Instances      Box(P          R      mAP50  mAP50-95)     Mask(P          R      mAP50  mAP50-95): 100%|██████████| 1/1 [00:00<00:00,  6.08it/s]\n"
          ]
        },
        {
          "output_type": "stream",
          "name": "stdout",
          "text": [
            "                   all          4         17      0.687       0.73      0.873      0.703       0.67      0.714      0.824      0.621\n",
            "\n",
            "      Epoch    GPU_mem   box_loss   seg_loss   cls_loss   dfl_loss  Instances       Size\n"
          ]
        },
        {
          "output_type": "stream",
          "name": "stderr",
          "text": [
            "     41/100      6.73G     0.3868     0.8168      0.259     0.8802         30        640: 100%|██████████| 1/1 [00:00<00:00,  2.10it/s]\n",
            "                 Class     Images  Instances      Box(P          R      mAP50  mAP50-95)     Mask(P          R      mAP50  mAP50-95): 100%|██████████| 1/1 [00:00<00:00,  5.37it/s]\n"
          ]
        },
        {
          "output_type": "stream",
          "name": "stdout",
          "text": [
            "                   all          4         17      0.725      0.728        0.9      0.703      0.707      0.712      0.824      0.615\n",
            "\n",
            "      Epoch    GPU_mem   box_loss   seg_loss   cls_loss   dfl_loss  Instances       Size\n"
          ]
        },
        {
          "output_type": "stream",
          "name": "stderr",
          "text": [
            "     42/100      6.72G     0.3163     0.6826     0.2641     0.8981         35        640: 100%|██████████| 1/1 [00:00<00:00,  1.56it/s]\n",
            "                 Class     Images  Instances      Box(P          R      mAP50  mAP50-95)     Mask(P          R      mAP50  mAP50-95): 100%|██████████| 1/1 [00:00<00:00,  6.23it/s]\n"
          ]
        },
        {
          "output_type": "stream",
          "name": "stdout",
          "text": [
            "                   all          4         17      0.725      0.728        0.9      0.703      0.707      0.712      0.824      0.615\n",
            "\n",
            "      Epoch    GPU_mem   box_loss   seg_loss   cls_loss   dfl_loss  Instances       Size\n"
          ]
        },
        {
          "output_type": "stream",
          "name": "stderr",
          "text": [
            "     43/100      6.78G     0.4809     0.8126      0.432     0.9553         46        640: 100%|██████████| 1/1 [00:00<00:00,  2.14it/s]\n",
            "                 Class     Images  Instances      Box(P          R      mAP50  mAP50-95)     Mask(P          R      mAP50  mAP50-95): 100%|██████████| 1/1 [00:00<00:00,  6.09it/s]"
          ]
        },
        {
          "output_type": "stream",
          "name": "stdout",
          "text": [
            "                   all          4         17      0.753      0.717      0.901      0.708      0.724      0.689      0.825      0.614\n"
          ]
        },
        {
          "output_type": "stream",
          "name": "stderr",
          "text": [
            "\n"
          ]
        },
        {
          "output_type": "stream",
          "name": "stdout",
          "text": [
            "\n",
            "      Epoch    GPU_mem   box_loss   seg_loss   cls_loss   dfl_loss  Instances       Size\n"
          ]
        },
        {
          "output_type": "stream",
          "name": "stderr",
          "text": [
            "     44/100      6.68G     0.2729     0.4994     0.2693     0.9119         32        640: 100%|██████████| 1/1 [00:00<00:00,  2.42it/s]\n",
            "                 Class     Images  Instances      Box(P          R      mAP50  mAP50-95)     Mask(P          R      mAP50  mAP50-95): 100%|██████████| 1/1 [00:00<00:00,  5.78it/s]"
          ]
        },
        {
          "output_type": "stream",
          "name": "stdout",
          "text": [
            "                   all          4         17      0.753      0.717      0.901      0.708      0.724      0.689      0.825      0.614\n"
          ]
        },
        {
          "output_type": "stream",
          "name": "stderr",
          "text": [
            "\n"
          ]
        },
        {
          "output_type": "stream",
          "name": "stdout",
          "text": [
            "\n",
            "      Epoch    GPU_mem   box_loss   seg_loss   cls_loss   dfl_loss  Instances       Size\n"
          ]
        },
        {
          "output_type": "stream",
          "name": "stderr",
          "text": [
            "     45/100      6.69G     0.4228      1.014     0.3021     0.9443         14        640: 100%|██████████| 1/1 [00:00<00:00,  2.01it/s]\n",
            "                 Class     Images  Instances      Box(P          R      mAP50  mAP50-95)     Mask(P          R      mAP50  mAP50-95): 100%|██████████| 1/1 [00:00<00:00,  6.12it/s]"
          ]
        },
        {
          "output_type": "stream",
          "name": "stdout",
          "text": [
            "                   all          4         17      0.769      0.633      0.899       0.71      0.717      0.633      0.832      0.616\n"
          ]
        },
        {
          "output_type": "stream",
          "name": "stderr",
          "text": [
            "\n"
          ]
        },
        {
          "output_type": "stream",
          "name": "stdout",
          "text": [
            "\n",
            "      Epoch    GPU_mem   box_loss   seg_loss   cls_loss   dfl_loss  Instances       Size\n"
          ]
        },
        {
          "output_type": "stream",
          "name": "stderr",
          "text": [
            "     46/100      6.71G     0.3516     0.6806     0.3388      0.853         37        640: 100%|██████████| 1/1 [00:00<00:00,  2.38it/s]\n",
            "                 Class     Images  Instances      Box(P          R      mAP50  mAP50-95)     Mask(P          R      mAP50  mAP50-95): 100%|██████████| 1/1 [00:00<00:00,  6.17it/s]\n"
          ]
        },
        {
          "output_type": "stream",
          "name": "stdout",
          "text": [
            "                   all          4         17      0.769      0.633      0.899       0.71      0.717      0.633      0.832      0.616\n",
            "\n",
            "      Epoch    GPU_mem   box_loss   seg_loss   cls_loss   dfl_loss  Instances       Size\n"
          ]
        },
        {
          "output_type": "stream",
          "name": "stderr",
          "text": [
            "     47/100      6.75G     0.3334     0.5675     0.2915     0.9211         25        640: 100%|██████████| 1/1 [00:00<00:00,  1.58it/s]\n",
            "                 Class     Images  Instances      Box(P          R      mAP50  mAP50-95)     Mask(P          R      mAP50  mAP50-95): 100%|██████████| 1/1 [00:00<00:00,  6.20it/s]\n"
          ]
        },
        {
          "output_type": "stream",
          "name": "stdout",
          "text": [
            "                   all          4         17      0.797      0.633      0.905      0.694      0.351      0.883      0.832      0.623\n",
            "\n",
            "      Epoch    GPU_mem   box_loss   seg_loss   cls_loss   dfl_loss  Instances       Size\n"
          ]
        },
        {
          "output_type": "stream",
          "name": "stderr",
          "text": [
            "     48/100      6.64G     0.3084     0.6498     0.2749     0.8806         26        640: 100%|██████████| 1/1 [00:00<00:00,  2.01it/s]\n",
            "                 Class     Images  Instances      Box(P          R      mAP50  mAP50-95)     Mask(P          R      mAP50  mAP50-95): 100%|██████████| 1/1 [00:00<00:00,  5.17it/s]\n"
          ]
        },
        {
          "output_type": "stream",
          "name": "stdout",
          "text": [
            "                   all          4         17      0.797      0.633      0.905      0.694      0.351      0.883      0.832      0.623\n",
            "\n",
            "      Epoch    GPU_mem   box_loss   seg_loss   cls_loss   dfl_loss  Instances       Size\n"
          ]
        },
        {
          "output_type": "stream",
          "name": "stderr",
          "text": [
            "     49/100      6.72G     0.4723     0.7493     0.2799     0.9612         26        640: 100%|██████████| 1/1 [00:00<00:00,  2.11it/s]\n",
            "                 Class     Images  Instances      Box(P          R      mAP50  mAP50-95)     Mask(P          R      mAP50  mAP50-95): 100%|██████████| 1/1 [00:00<00:00,  6.04it/s]"
          ]
        },
        {
          "output_type": "stream",
          "name": "stdout",
          "text": [
            "                   all          4         17      0.917      0.541      0.906      0.681      0.338        0.9      0.839      0.625\n"
          ]
        },
        {
          "output_type": "stream",
          "name": "stderr",
          "text": [
            "\n"
          ]
        },
        {
          "output_type": "stream",
          "name": "stdout",
          "text": [
            "\n",
            "      Epoch    GPU_mem   box_loss   seg_loss   cls_loss   dfl_loss  Instances       Size\n"
          ]
        },
        {
          "output_type": "stream",
          "name": "stderr",
          "text": [
            "     50/100      6.68G     0.3236     0.7427     0.2303     0.8829         32        640: 100%|██████████| 1/1 [00:00<00:00,  1.98it/s]\n",
            "                 Class     Images  Instances      Box(P          R      mAP50  mAP50-95)     Mask(P          R      mAP50  mAP50-95): 100%|██████████| 1/1 [00:00<00:00,  5.35it/s]\n"
          ]
        },
        {
          "output_type": "stream",
          "name": "stdout",
          "text": [
            "                   all          4         17      0.917      0.541      0.906      0.681      0.338        0.9      0.839      0.625\n",
            "\n",
            "      Epoch    GPU_mem   box_loss   seg_loss   cls_loss   dfl_loss  Instances       Size\n"
          ]
        },
        {
          "output_type": "stream",
          "name": "stderr",
          "text": [
            "     51/100      6.72G     0.3591     0.7327     0.2372     0.8784         30        640: 100%|██████████| 1/1 [00:00<00:00,  2.12it/s]\n",
            "                 Class     Images  Instances      Box(P          R      mAP50  mAP50-95)     Mask(P          R      mAP50  mAP50-95): 100%|██████████| 1/1 [00:00<00:00,  6.11it/s]\n"
          ]
        },
        {
          "output_type": "stream",
          "name": "stdout",
          "text": [
            "                   all          4         17      0.923      0.553      0.819      0.617      0.363        0.9      0.754      0.552\n",
            "\n",
            "      Epoch    GPU_mem   box_loss   seg_loss   cls_loss   dfl_loss  Instances       Size\n"
          ]
        },
        {
          "output_type": "stream",
          "name": "stderr",
          "text": [
            "     52/100      6.65G     0.4009     0.6985     0.3652     0.9426         26        640: 100%|██████████| 1/1 [00:00<00:00,  2.42it/s]\n",
            "                 Class     Images  Instances      Box(P          R      mAP50  mAP50-95)     Mask(P          R      mAP50  mAP50-95): 100%|██████████| 1/1 [00:00<00:00,  6.18it/s]\n"
          ]
        },
        {
          "output_type": "stream",
          "name": "stdout",
          "text": [
            "                   all          4         17      0.923      0.553      0.819      0.617      0.363        0.9      0.754      0.552\n",
            "\n",
            "      Epoch    GPU_mem   box_loss   seg_loss   cls_loss   dfl_loss  Instances       Size\n"
          ]
        },
        {
          "output_type": "stream",
          "name": "stderr",
          "text": [
            "     53/100      6.72G     0.3538     0.4586     0.2277     0.8964         24        640: 100%|██████████| 1/1 [00:00<00:00,  1.96it/s]\n",
            "                 Class     Images  Instances      Box(P          R      mAP50  mAP50-95)     Mask(P          R      mAP50  mAP50-95): 100%|██████████| 1/1 [00:00<00:00,  5.23it/s]\n"
          ]
        },
        {
          "output_type": "stream",
          "name": "stdout",
          "text": [
            "                   all          4         17      0.923      0.553      0.819      0.617      0.363        0.9      0.754      0.552\n",
            "\n",
            "      Epoch    GPU_mem   box_loss   seg_loss   cls_loss   dfl_loss  Instances       Size\n"
          ]
        },
        {
          "output_type": "stream",
          "name": "stderr",
          "text": [
            "     54/100      6.68G     0.3572     0.5702     0.2613     0.8956         16        640: 100%|██████████| 1/1 [00:00<00:00,  2.09it/s]\n",
            "                 Class     Images  Instances      Box(P          R      mAP50  mAP50-95)     Mask(P          R      mAP50  mAP50-95): 100%|██████████| 1/1 [00:00<00:00,  6.11it/s]\n"
          ]
        },
        {
          "output_type": "stream",
          "name": "stdout",
          "text": [
            "                   all          4         17       0.76        0.7      0.732      0.539      0.754        0.7      0.666      0.459\n",
            "\n",
            "      Epoch    GPU_mem   box_loss   seg_loss   cls_loss   dfl_loss  Instances       Size\n"
          ]
        },
        {
          "output_type": "stream",
          "name": "stderr",
          "text": [
            "     55/100      6.65G     0.3169     0.5909     0.2597     0.9244         29        640: 100%|██████████| 1/1 [00:00<00:00,  2.42it/s]\n",
            "                 Class     Images  Instances      Box(P          R      mAP50  mAP50-95)     Mask(P          R      mAP50  mAP50-95): 100%|██████████| 1/1 [00:00<00:00,  6.00it/s]"
          ]
        },
        {
          "output_type": "stream",
          "name": "stdout",
          "text": [
            "                   all          4         17       0.76        0.7      0.732      0.539      0.754        0.7      0.666      0.459\n"
          ]
        },
        {
          "output_type": "stream",
          "name": "stderr",
          "text": [
            "\n"
          ]
        },
        {
          "output_type": "stream",
          "name": "stdout",
          "text": [
            "\n",
            "      Epoch    GPU_mem   box_loss   seg_loss   cls_loss   dfl_loss  Instances       Size\n"
          ]
        },
        {
          "output_type": "stream",
          "name": "stderr",
          "text": [
            "     56/100      6.66G     0.4026      1.398     0.3292     0.9685         14        640: 100%|██████████| 1/1 [00:00<00:00,  2.37it/s]\n",
            "                 Class     Images  Instances      Box(P          R      mAP50  mAP50-95)     Mask(P          R      mAP50  mAP50-95): 100%|██████████| 1/1 [00:00<00:00,  6.10it/s]"
          ]
        },
        {
          "output_type": "stream",
          "name": "stdout",
          "text": [
            "                   all          4         17       0.76        0.7      0.732      0.539      0.754        0.7      0.666      0.459\n"
          ]
        },
        {
          "output_type": "stream",
          "name": "stderr",
          "text": [
            "\n"
          ]
        },
        {
          "output_type": "stream",
          "name": "stdout",
          "text": [
            "\n",
            "      Epoch    GPU_mem   box_loss   seg_loss   cls_loss   dfl_loss  Instances       Size\n"
          ]
        },
        {
          "output_type": "stream",
          "name": "stderr",
          "text": [
            "     57/100      6.74G     0.5484     0.7832     0.4088      1.038         28        640: 100%|██████████| 1/1 [00:00<00:00,  1.60it/s]\n",
            "                 Class     Images  Instances      Box(P          R      mAP50  mAP50-95)     Mask(P          R      mAP50  mAP50-95): 100%|██████████| 1/1 [00:00<00:00,  5.63it/s]\n"
          ]
        },
        {
          "output_type": "stream",
          "name": "stdout",
          "text": [
            "                   all          4         17      0.766      0.618      0.731      0.543      0.769      0.617      0.691      0.476\n",
            "\n",
            "      Epoch    GPU_mem   box_loss   seg_loss   cls_loss   dfl_loss  Instances       Size\n"
          ]
        },
        {
          "output_type": "stream",
          "name": "stderr",
          "text": [
            "     58/100      6.68G     0.2959     0.5544     0.2441       0.84         36        640: 100%|██████████| 1/1 [00:00<00:00,  2.47it/s]\n",
            "                 Class     Images  Instances      Box(P          R      mAP50  mAP50-95)     Mask(P          R      mAP50  mAP50-95): 100%|██████████| 1/1 [00:00<00:00,  6.11it/s]\n"
          ]
        },
        {
          "output_type": "stream",
          "name": "stdout",
          "text": [
            "                   all          4         17      0.766      0.618      0.731      0.543      0.769      0.617      0.691      0.476\n",
            "\n",
            "      Epoch    GPU_mem   box_loss   seg_loss   cls_loss   dfl_loss  Instances       Size\n"
          ]
        },
        {
          "output_type": "stream",
          "name": "stderr",
          "text": [
            "     59/100      6.72G     0.4033     0.7881     0.3619     0.9812         30        640: 100%|██████████| 1/1 [00:00<00:00,  2.45it/s]\n",
            "                 Class     Images  Instances      Box(P          R      mAP50  mAP50-95)     Mask(P          R      mAP50  mAP50-95): 100%|██████████| 1/1 [00:00<00:00,  6.20it/s]\n"
          ]
        },
        {
          "output_type": "stream",
          "name": "stdout",
          "text": [
            "                   all          4         17      0.766      0.618      0.731      0.543      0.769      0.617      0.691      0.476\n",
            "\n",
            "      Epoch    GPU_mem   box_loss   seg_loss   cls_loss   dfl_loss  Instances       Size\n"
          ]
        },
        {
          "output_type": "stream",
          "name": "stderr",
          "text": [
            "     60/100      6.78G     0.3337     0.6166     0.2285     0.8547         35        640: 100%|██████████| 1/1 [00:00<00:00,  1.69it/s]\n",
            "                 Class     Images  Instances      Box(P          R      mAP50  mAP50-95)     Mask(P          R      mAP50  mAP50-95): 100%|██████████| 1/1 [00:00<00:00,  6.20it/s]"
          ]
        },
        {
          "output_type": "stream",
          "name": "stdout",
          "text": [
            "                   all          4         17      0.734      0.699      0.726      0.552      0.734      0.699      0.721      0.475\n"
          ]
        },
        {
          "output_type": "stream",
          "name": "stderr",
          "text": [
            "\n"
          ]
        },
        {
          "output_type": "stream",
          "name": "stdout",
          "text": [
            "\n",
            "      Epoch    GPU_mem   box_loss   seg_loss   cls_loss   dfl_loss  Instances       Size\n"
          ]
        },
        {
          "output_type": "stream",
          "name": "stderr",
          "text": [
            "     61/100      6.69G     0.3827     0.6403     0.3004     0.9611         41        640: 100%|██████████| 1/1 [00:00<00:00,  1.96it/s]\n",
            "                 Class     Images  Instances      Box(P          R      mAP50  mAP50-95)     Mask(P          R      mAP50  mAP50-95): 100%|██████████| 1/1 [00:00<00:00,  5.70it/s]\n"
          ]
        },
        {
          "output_type": "stream",
          "name": "stdout",
          "text": [
            "                   all          4         17      0.734      0.699      0.726      0.552      0.734      0.699      0.721      0.475\n",
            "\n",
            "      Epoch    GPU_mem   box_loss   seg_loss   cls_loss   dfl_loss  Instances       Size\n"
          ]
        },
        {
          "output_type": "stream",
          "name": "stderr",
          "text": [
            "     62/100      6.69G     0.3845     0.7129      0.392      0.966         23        640: 100%|██████████| 1/1 [00:00<00:00,  2.37it/s]\n",
            "                 Class     Images  Instances      Box(P          R      mAP50  mAP50-95)     Mask(P          R      mAP50  mAP50-95): 100%|██████████| 1/1 [00:00<00:00,  5.89it/s]"
          ]
        },
        {
          "output_type": "stream",
          "name": "stdout",
          "text": [
            "                   all          4         17      0.734      0.699      0.726      0.552      0.734      0.699      0.721      0.475\n"
          ]
        },
        {
          "output_type": "stream",
          "name": "stderr",
          "text": [
            "\n"
          ]
        },
        {
          "output_type": "stream",
          "name": "stdout",
          "text": [
            "\n",
            "      Epoch    GPU_mem   box_loss   seg_loss   cls_loss   dfl_loss  Instances       Size\n"
          ]
        },
        {
          "output_type": "stream",
          "name": "stderr",
          "text": [
            "     63/100      6.78G      0.353     0.6054     0.2478     0.9169         38        640: 100%|██████████| 1/1 [00:00<00:00,  2.10it/s]\n",
            "                 Class     Images  Instances      Box(P          R      mAP50  mAP50-95)     Mask(P          R      mAP50  mAP50-95): 100%|██████████| 1/1 [00:00<00:00,  6.14it/s]\n"
          ]
        },
        {
          "output_type": "stream",
          "name": "stdout",
          "text": [
            "                   all          4         17      0.754        0.7      0.729      0.563      0.754        0.7      0.718       0.48\n",
            "\n",
            "      Epoch    GPU_mem   box_loss   seg_loss   cls_loss   dfl_loss  Instances       Size\n"
          ]
        },
        {
          "output_type": "stream",
          "name": "stderr",
          "text": [
            "     64/100      6.65G     0.3033     0.5566     0.2327      0.861         21        640: 100%|██████████| 1/1 [00:00<00:00,  1.92it/s]\n",
            "                 Class     Images  Instances      Box(P          R      mAP50  mAP50-95)     Mask(P          R      mAP50  mAP50-95): 100%|██████████| 1/1 [00:00<00:00,  5.26it/s]\n"
          ]
        },
        {
          "output_type": "stream",
          "name": "stdout",
          "text": [
            "                   all          4         17      0.754        0.7      0.729      0.563      0.754        0.7      0.718       0.48\n",
            "\n",
            "      Epoch    GPU_mem   box_loss   seg_loss   cls_loss   dfl_loss  Instances       Size\n"
          ]
        },
        {
          "output_type": "stream",
          "name": "stderr",
          "text": [
            "     65/100      6.78G     0.2809     0.6192     0.3056     0.8525         42        640: 100%|██████████| 1/1 [00:00<00:00,  1.98it/s]\n",
            "                 Class     Images  Instances      Box(P          R      mAP50  mAP50-95)     Mask(P          R      mAP50  mAP50-95): 100%|██████████| 1/1 [00:00<00:00,  5.27it/s]\n"
          ]
        },
        {
          "output_type": "stream",
          "name": "stdout",
          "text": [
            "                   all          4         17      0.754        0.7      0.729      0.563      0.754        0.7      0.718       0.48\n",
            "\n",
            "      Epoch    GPU_mem   box_loss   seg_loss   cls_loss   dfl_loss  Instances       Size\n"
          ]
        },
        {
          "output_type": "stream",
          "name": "stderr",
          "text": [
            "     66/100      6.75G     0.4061     0.6626      0.276     0.9308         34        640: 100%|██████████| 1/1 [00:00<00:00,  2.04it/s]\n",
            "                 Class     Images  Instances      Box(P          R      mAP50  mAP50-95)     Mask(P          R      mAP50  mAP50-95): 100%|██████████| 1/1 [00:00<00:00,  6.06it/s]\n"
          ]
        },
        {
          "output_type": "stream",
          "name": "stdout",
          "text": [
            "                   all          4         17      0.694      0.702      0.734      0.565      0.694      0.702      0.723      0.482\n",
            "\n",
            "      Epoch    GPU_mem   box_loss   seg_loss   cls_loss   dfl_loss  Instances       Size\n"
          ]
        },
        {
          "output_type": "stream",
          "name": "stderr",
          "text": [
            "     67/100      6.62G     0.3429     0.6601     0.3648     0.8886         17        640: 100%|██████████| 1/1 [00:00<00:00,  2.49it/s]\n",
            "                 Class     Images  Instances      Box(P          R      mAP50  mAP50-95)     Mask(P          R      mAP50  mAP50-95): 100%|██████████| 1/1 [00:00<00:00,  6.04it/s]"
          ]
        },
        {
          "output_type": "stream",
          "name": "stdout",
          "text": [
            "                   all          4         17      0.694      0.702      0.734      0.565      0.694      0.702      0.723      0.482\n"
          ]
        },
        {
          "output_type": "stream",
          "name": "stderr",
          "text": [
            "\n"
          ]
        },
        {
          "output_type": "stream",
          "name": "stdout",
          "text": [
            "\n",
            "      Epoch    GPU_mem   box_loss   seg_loss   cls_loss   dfl_loss  Instances       Size\n"
          ]
        },
        {
          "output_type": "stream",
          "name": "stderr",
          "text": [
            "     68/100      6.74G      0.335     0.5282     0.2924      0.884         31        640: 100%|██████████| 1/1 [00:00<00:00,  2.42it/s]\n",
            "                 Class     Images  Instances      Box(P          R      mAP50  mAP50-95)     Mask(P          R      mAP50  mAP50-95): 100%|██████████| 1/1 [00:00<00:00,  6.25it/s]\n"
          ]
        },
        {
          "output_type": "stream",
          "name": "stdout",
          "text": [
            "                   all          4         17      0.694      0.702      0.734      0.565      0.694      0.702      0.723      0.482\n",
            "\n",
            "      Epoch    GPU_mem   box_loss   seg_loss   cls_loss   dfl_loss  Instances       Size\n"
          ]
        },
        {
          "output_type": "stream",
          "name": "stderr",
          "text": [
            "     69/100      6.79G     0.2956     0.5851     0.2422     0.8172         39        640: 100%|██████████| 1/1 [00:00<00:00,  2.03it/s]\n",
            "                 Class     Images  Instances      Box(P          R      mAP50  mAP50-95)     Mask(P          R      mAP50  mAP50-95): 100%|██████████| 1/1 [00:00<00:00,  6.30it/s]\n"
          ]
        },
        {
          "output_type": "stream",
          "name": "stdout",
          "text": [
            "                   all          4         17       0.57      0.733      0.726      0.542      0.563      0.717      0.687      0.479\n",
            "\n",
            "      Epoch    GPU_mem   box_loss   seg_loss   cls_loss   dfl_loss  Instances       Size\n"
          ]
        },
        {
          "output_type": "stream",
          "name": "stderr",
          "text": [
            "     70/100      6.66G     0.5317     0.8892     0.3132     0.9583         30        640: 100%|██████████| 1/1 [00:00<00:00,  2.42it/s]\n",
            "                 Class     Images  Instances      Box(P          R      mAP50  mAP50-95)     Mask(P          R      mAP50  mAP50-95): 100%|██████████| 1/1 [00:00<00:00,  6.08it/s]"
          ]
        },
        {
          "output_type": "stream",
          "name": "stdout",
          "text": [
            "                   all          4         17       0.57      0.733      0.726      0.542      0.563      0.717      0.687      0.479\n"
          ]
        },
        {
          "output_type": "stream",
          "name": "stderr",
          "text": [
            "\n"
          ]
        },
        {
          "output_type": "stream",
          "name": "stdout",
          "text": [
            "\n",
            "      Epoch    GPU_mem   box_loss   seg_loss   cls_loss   dfl_loss  Instances       Size\n"
          ]
        },
        {
          "output_type": "stream",
          "name": "stderr",
          "text": [
            "     71/100      6.71G       0.32     0.5583     0.2531     0.9123         25        640: 100%|██████████| 1/1 [00:00<00:00,  2.41it/s]\n",
            "                 Class     Images  Instances      Box(P          R      mAP50  mAP50-95)     Mask(P          R      mAP50  mAP50-95): 100%|██████████| 1/1 [00:00<00:00,  5.67it/s]"
          ]
        },
        {
          "output_type": "stream",
          "name": "stdout",
          "text": [
            "                   all          4         17       0.57      0.733      0.726      0.542      0.563      0.717      0.687      0.479\n"
          ]
        },
        {
          "output_type": "stream",
          "name": "stderr",
          "text": [
            "\n"
          ]
        },
        {
          "output_type": "stream",
          "name": "stdout",
          "text": [
            "\n",
            "      Epoch    GPU_mem   box_loss   seg_loss   cls_loss   dfl_loss  Instances       Size\n"
          ]
        },
        {
          "output_type": "stream",
          "name": "stderr",
          "text": [
            "     72/100      6.74G     0.3276      0.623     0.2393     0.9257         31        640: 100%|██████████| 1/1 [00:00<00:00,  2.04it/s]\n",
            "                 Class     Images  Instances      Box(P          R      mAP50  mAP50-95)     Mask(P          R      mAP50  mAP50-95): 100%|██████████| 1/1 [00:00<00:00,  6.04it/s]\n"
          ]
        },
        {
          "output_type": "stream",
          "name": "stdout",
          "text": [
            "                   all          4         17      0.289      0.733      0.723      0.534      0.287      0.717      0.659      0.468\n",
            "\n",
            "      Epoch    GPU_mem   box_loss   seg_loss   cls_loss   dfl_loss  Instances       Size\n"
          ]
        },
        {
          "output_type": "stream",
          "name": "stderr",
          "text": [
            "     73/100      6.61G     0.3405     0.7271     0.3575     0.8428         18        640: 100%|██████████| 1/1 [00:00<00:00,  2.36it/s]\n",
            "                 Class     Images  Instances      Box(P          R      mAP50  mAP50-95)     Mask(P          R      mAP50  mAP50-95): 100%|██████████| 1/1 [00:00<00:00,  6.05it/s]\n"
          ]
        },
        {
          "output_type": "stream",
          "name": "stdout",
          "text": [
            "                   all          4         17      0.289      0.733      0.723      0.534      0.287      0.717      0.659      0.468\n",
            "\n",
            "      Epoch    GPU_mem   box_loss   seg_loss   cls_loss   dfl_loss  Instances       Size\n"
          ]
        },
        {
          "output_type": "stream",
          "name": "stderr",
          "text": [
            "     74/100      6.74G     0.3744     0.8498      0.392     0.9373         34        640: 100%|██████████| 1/1 [00:00<00:00,  2.42it/s]\n",
            "                 Class     Images  Instances      Box(P          R      mAP50  mAP50-95)     Mask(P          R      mAP50  mAP50-95): 100%|██████████| 1/1 [00:00<00:00,  5.97it/s]"
          ]
        },
        {
          "output_type": "stream",
          "name": "stdout",
          "text": [
            "                   all          4         17      0.289      0.733      0.723      0.534      0.287      0.717      0.659      0.468\n"
          ]
        },
        {
          "output_type": "stream",
          "name": "stderr",
          "text": [
            "\n"
          ]
        },
        {
          "output_type": "stream",
          "name": "stdout",
          "text": [
            "\n",
            "      Epoch    GPU_mem   box_loss   seg_loss   cls_loss   dfl_loss  Instances       Size\n"
          ]
        },
        {
          "output_type": "stream",
          "name": "stderr",
          "text": [
            "     75/100      6.68G      0.294     0.5463     0.3254     0.9877         11        640: 100%|██████████| 1/1 [00:00<00:00,  2.13it/s]\n",
            "                 Class     Images  Instances      Box(P          R      mAP50  mAP50-95)     Mask(P          R      mAP50  mAP50-95): 100%|██████████| 1/1 [00:00<00:00,  5.98it/s]\n"
          ]
        },
        {
          "output_type": "stream",
          "name": "stdout",
          "text": [
            "                   all          4         17      0.278      0.733      0.729      0.518      0.276      0.717      0.665      0.464\n",
            "\n",
            "      Epoch    GPU_mem   box_loss   seg_loss   cls_loss   dfl_loss  Instances       Size\n"
          ]
        },
        {
          "output_type": "stream",
          "name": "stderr",
          "text": [
            "     76/100      6.66G      0.371     0.6228     0.2681     0.9002         29        640: 100%|██████████| 1/1 [00:00<00:00,  2.53it/s]\n",
            "                 Class     Images  Instances      Box(P          R      mAP50  mAP50-95)     Mask(P          R      mAP50  mAP50-95): 100%|██████████| 1/1 [00:00<00:00,  5.98it/s]"
          ]
        },
        {
          "output_type": "stream",
          "name": "stdout",
          "text": [
            "                   all          4         17      0.278      0.733      0.729      0.518      0.276      0.717      0.665      0.464\n"
          ]
        },
        {
          "output_type": "stream",
          "name": "stderr",
          "text": [
            "\n"
          ]
        },
        {
          "output_type": "stream",
          "name": "stdout",
          "text": [
            "\n",
            "      Epoch    GPU_mem   box_loss   seg_loss   cls_loss   dfl_loss  Instances       Size\n"
          ]
        },
        {
          "output_type": "stream",
          "name": "stderr",
          "text": [
            "     77/100      6.74G     0.2954     0.7271     0.2573     0.8673         29        640: 100%|██████████| 1/1 [00:00<00:00,  2.47it/s]\n",
            "                 Class     Images  Instances      Box(P          R      mAP50  mAP50-95)     Mask(P          R      mAP50  mAP50-95): 100%|██████████| 1/1 [00:00<00:00,  5.81it/s]"
          ]
        },
        {
          "output_type": "stream",
          "name": "stdout",
          "text": [
            "                   all          4         17      0.278      0.733      0.729      0.518      0.276      0.717      0.665      0.464\n"
          ]
        },
        {
          "output_type": "stream",
          "name": "stderr",
          "text": [
            "\n"
          ]
        },
        {
          "output_type": "stream",
          "name": "stdout",
          "text": [
            "\n",
            "      Epoch    GPU_mem   box_loss   seg_loss   cls_loss   dfl_loss  Instances       Size\n"
          ]
        },
        {
          "output_type": "stream",
          "name": "stderr",
          "text": [
            "     78/100      6.73G     0.3315      0.607     0.2329     0.8777         29        640: 100%|██████████| 1/1 [00:00<00:00,  1.72it/s]\n",
            "                 Class     Images  Instances      Box(P          R      mAP50  mAP50-95)     Mask(P          R      mAP50  mAP50-95): 100%|██████████| 1/1 [00:00<00:00,  4.99it/s]"
          ]
        },
        {
          "output_type": "stream",
          "name": "stdout",
          "text": [
            "                   all          4         17      0.295      0.733      0.732      0.525      0.292      0.717      0.669      0.467\n"
          ]
        },
        {
          "output_type": "stream",
          "name": "stderr",
          "text": [
            "\n"
          ]
        },
        {
          "output_type": "stream",
          "name": "stdout",
          "text": [
            "\n",
            "      Epoch    GPU_mem   box_loss   seg_loss   cls_loss   dfl_loss  Instances       Size\n"
          ]
        },
        {
          "output_type": "stream",
          "name": "stderr",
          "text": [
            "     79/100      6.64G      0.288     0.5305      0.234     0.8837         27        640: 100%|██████████| 1/1 [00:00<00:00,  2.44it/s]\n",
            "                 Class     Images  Instances      Box(P          R      mAP50  mAP50-95)     Mask(P          R      mAP50  mAP50-95): 100%|██████████| 1/1 [00:00<00:00,  6.04it/s]"
          ]
        },
        {
          "output_type": "stream",
          "name": "stdout",
          "text": [
            "                   all          4         17      0.295      0.733      0.732      0.525      0.292      0.717      0.669      0.467\n"
          ]
        },
        {
          "output_type": "stream",
          "name": "stderr",
          "text": [
            "\n"
          ]
        },
        {
          "output_type": "stream",
          "name": "stdout",
          "text": [
            "\n",
            "      Epoch    GPU_mem   box_loss   seg_loss   cls_loss   dfl_loss  Instances       Size\n"
          ]
        },
        {
          "output_type": "stream",
          "name": "stderr",
          "text": [
            "     80/100      6.72G     0.3282     0.5865     0.2292     0.8991         32        640: 100%|██████████| 1/1 [00:00<00:00,  2.39it/s]\n",
            "                 Class     Images  Instances      Box(P          R      mAP50  mAP50-95)     Mask(P          R      mAP50  mAP50-95): 100%|██████████| 1/1 [00:00<00:00,  5.92it/s]"
          ]
        },
        {
          "output_type": "stream",
          "name": "stdout",
          "text": [
            "                   all          4         17      0.295      0.733      0.732      0.525      0.292      0.717      0.669      0.467\n"
          ]
        },
        {
          "output_type": "stream",
          "name": "stderr",
          "text": [
            "\n"
          ]
        },
        {
          "output_type": "stream",
          "name": "stdout",
          "text": [
            "\n",
            "      Epoch    GPU_mem   box_loss   seg_loss   cls_loss   dfl_loss  Instances       Size\n"
          ]
        },
        {
          "output_type": "stream",
          "name": "stderr",
          "text": [
            "     81/100      6.69G     0.2478     0.4898     0.2509     0.8289         21        640: 100%|██████████| 1/1 [00:00<00:00,  2.12it/s]\n",
            "                 Class     Images  Instances      Box(P          R      mAP50  mAP50-95)     Mask(P          R      mAP50  mAP50-95): 100%|██████████| 1/1 [00:00<00:00,  6.01it/s]"
          ]
        },
        {
          "output_type": "stream",
          "name": "stdout",
          "text": [
            "                   all          4         17      0.893       0.46      0.733      0.526      0.267      0.717      0.669      0.447\n"
          ]
        },
        {
          "output_type": "stream",
          "name": "stderr",
          "text": [
            "\n"
          ]
        },
        {
          "output_type": "stream",
          "name": "stdout",
          "text": [
            "\n",
            "      Epoch    GPU_mem   box_loss   seg_loss   cls_loss   dfl_loss  Instances       Size\n"
          ]
        },
        {
          "output_type": "stream",
          "name": "stderr",
          "text": [
            "     82/100      6.63G     0.3673     0.5431     0.2862     0.8991         18        640: 100%|██████████| 1/1 [00:00<00:00,  1.84it/s]\n",
            "                 Class     Images  Instances      Box(P          R      mAP50  mAP50-95)     Mask(P          R      mAP50  mAP50-95): 100%|██████████| 1/1 [00:00<00:00,  4.57it/s]"
          ]
        },
        {
          "output_type": "stream",
          "name": "stdout",
          "text": [
            "                   all          4         17      0.893       0.46      0.733      0.526      0.267      0.717      0.669      0.447\n"
          ]
        },
        {
          "output_type": "stream",
          "name": "stderr",
          "text": [
            "\n"
          ]
        },
        {
          "output_type": "stream",
          "name": "stdout",
          "text": [
            "\n",
            "      Epoch    GPU_mem   box_loss   seg_loss   cls_loss   dfl_loss  Instances       Size\n"
          ]
        },
        {
          "output_type": "stream",
          "name": "stderr",
          "text": [
            "     83/100      6.74G      0.436      1.031     0.5205     0.9458         37        640: 100%|██████████| 1/1 [00:00<00:00,  2.46it/s]\n",
            "                 Class     Images  Instances      Box(P          R      mAP50  mAP50-95)     Mask(P          R      mAP50  mAP50-95): 100%|██████████| 1/1 [00:00<00:00,  6.22it/s]\n"
          ]
        },
        {
          "output_type": "stream",
          "name": "stdout",
          "text": [
            "                   all          4         17      0.893       0.46      0.733      0.526      0.267      0.717      0.669      0.447\n",
            "\n",
            "      Epoch    GPU_mem   box_loss   seg_loss   cls_loss   dfl_loss  Instances       Size\n"
          ]
        },
        {
          "output_type": "stream",
          "name": "stderr",
          "text": [
            "     84/100      6.74G     0.3066      0.524     0.2601     0.9128         32        640: 100%|██████████| 1/1 [00:00<00:00,  2.15it/s]\n",
            "                 Class     Images  Instances      Box(P          R      mAP50  mAP50-95)     Mask(P          R      mAP50  mAP50-95): 100%|██████████| 1/1 [00:00<00:00,  6.07it/s]\n"
          ]
        },
        {
          "output_type": "stream",
          "name": "stdout",
          "text": [
            "                   all          4         17      0.894      0.463      0.735      0.508      0.268      0.717      0.669      0.447\n",
            "\n",
            "      Epoch    GPU_mem   box_loss   seg_loss   cls_loss   dfl_loss  Instances       Size\n"
          ]
        },
        {
          "output_type": "stream",
          "name": "stderr",
          "text": [
            "     85/100      6.62G     0.2911     0.4673     0.2219     0.9026         24        640: 100%|██████████| 1/1 [00:00<00:00,  2.01it/s]\n",
            "                 Class     Images  Instances      Box(P          R      mAP50  mAP50-95)     Mask(P          R      mAP50  mAP50-95): 100%|██████████| 1/1 [00:00<00:00,  5.69it/s]"
          ]
        },
        {
          "output_type": "stream",
          "name": "stdout",
          "text": [
            "                   all          4         17      0.894      0.463      0.735      0.508      0.268      0.717      0.669      0.447\n"
          ]
        },
        {
          "output_type": "stream",
          "name": "stderr",
          "text": [
            "\n"
          ]
        },
        {
          "output_type": "stream",
          "name": "stdout",
          "text": [
            "\n",
            "      Epoch    GPU_mem   box_loss   seg_loss   cls_loss   dfl_loss  Instances       Size\n"
          ]
        },
        {
          "output_type": "stream",
          "name": "stderr",
          "text": [
            "     86/100       6.8G     0.2815      0.622     0.3062     0.8797         57        640: 100%|██████████| 1/1 [00:00<00:00,  2.38it/s]\n",
            "                 Class     Images  Instances      Box(P          R      mAP50  mAP50-95)     Mask(P          R      mAP50  mAP50-95): 100%|██████████| 1/1 [00:00<00:00,  5.86it/s]"
          ]
        },
        {
          "output_type": "stream",
          "name": "stdout",
          "text": [
            "                   all          4         17      0.894      0.463      0.735      0.508      0.268      0.717      0.669      0.447\n"
          ]
        },
        {
          "output_type": "stream",
          "name": "stderr",
          "text": [
            "\n"
          ]
        },
        {
          "output_type": "stream",
          "name": "stdout",
          "text": [
            "\n",
            "      Epoch    GPU_mem   box_loss   seg_loss   cls_loss   dfl_loss  Instances       Size\n"
          ]
        },
        {
          "output_type": "stream",
          "name": "stderr",
          "text": [
            "     87/100      6.71G     0.2697      0.648     0.3138     0.8437         21        640: 100%|██████████| 1/1 [00:00<00:00,  2.43it/s]\n",
            "                 Class     Images  Instances      Box(P          R      mAP50  mAP50-95)     Mask(P          R      mAP50  mAP50-95): 100%|██████████| 1/1 [00:00<00:00,  6.01it/s]"
          ]
        },
        {
          "output_type": "stream",
          "name": "stdout",
          "text": [
            "                   all          4         17      0.894      0.463      0.735      0.508      0.268      0.717      0.669      0.447\n"
          ]
        },
        {
          "output_type": "stream",
          "name": "stderr",
          "text": [
            "\n"
          ]
        },
        {
          "output_type": "stream",
          "name": "stdout",
          "text": [
            "\n",
            "      Epoch    GPU_mem   box_loss   seg_loss   cls_loss   dfl_loss  Instances       Size\n"
          ]
        },
        {
          "output_type": "stream",
          "name": "stderr",
          "text": [
            "     88/100      6.78G     0.3252     0.5506     0.2471     0.8259         45        640: 100%|██████████| 1/1 [00:00<00:00,  2.06it/s]\n",
            "                 Class     Images  Instances      Box(P          R      mAP50  mAP50-95)     Mask(P          R      mAP50  mAP50-95): 100%|██████████| 1/1 [00:00<00:00,  6.23it/s]\n"
          ]
        },
        {
          "output_type": "stream",
          "name": "stdout",
          "text": [
            "                   all          4         17      0.901      0.465      0.736      0.491      0.254      0.717      0.669      0.445\n",
            "\n",
            "      Epoch    GPU_mem   box_loss   seg_loss   cls_loss   dfl_loss  Instances       Size\n"
          ]
        },
        {
          "output_type": "stream",
          "name": "stderr",
          "text": [
            "     89/100      6.64G     0.2175     0.4408     0.1911     0.8505         29        640: 100%|██████████| 1/1 [00:00<00:00,  2.32it/s]\n",
            "                 Class     Images  Instances      Box(P          R      mAP50  mAP50-95)     Mask(P          R      mAP50  mAP50-95): 100%|██████████| 1/1 [00:00<00:00,  3.45it/s]"
          ]
        },
        {
          "output_type": "stream",
          "name": "stdout",
          "text": [
            "                   all          4         17      0.901      0.465      0.736      0.491      0.254      0.717      0.669      0.445\n"
          ]
        },
        {
          "output_type": "stream",
          "name": "stderr",
          "text": [
            "\n"
          ]
        },
        {
          "output_type": "stream",
          "name": "stdout",
          "text": [
            "\n",
            "      Epoch    GPU_mem   box_loss   seg_loss   cls_loss   dfl_loss  Instances       Size\n"
          ]
        },
        {
          "output_type": "stream",
          "name": "stderr",
          "text": [
            "     90/100      6.73G     0.3812     0.5829      0.247     0.9374         30        640: 100%|██████████| 1/1 [00:00<00:00,  2.35it/s]\n",
            "                 Class     Images  Instances      Box(P          R      mAP50  mAP50-95)     Mask(P          R      mAP50  mAP50-95): 100%|██████████| 1/1 [00:00<00:00,  5.70it/s]"
          ]
        },
        {
          "output_type": "stream",
          "name": "stdout",
          "text": [
            "                   all          4         17      0.901      0.465      0.736      0.491      0.254      0.717      0.669      0.445\n"
          ]
        },
        {
          "output_type": "stream",
          "name": "stderr",
          "text": [
            "\n"
          ]
        },
        {
          "output_type": "stream",
          "name": "stdout",
          "text": [
            "Closing dataloader mosaic\n",
            "\u001b[34m\u001b[1malbumentations: \u001b[0mBlur(p=0.01, blur_limit=(3, 7)), MedianBlur(p=0.01, blur_limit=(3, 7)), ToGray(p=0.01, num_output_channels=3, method='weighted_average'), CLAHE(p=0.01, clip_limit=(1.0, 4.0), tile_grid_size=(8, 8))\n",
            "\n",
            "      Epoch    GPU_mem   box_loss   seg_loss   cls_loss   dfl_loss  Instances       Size\n"
          ]
        },
        {
          "output_type": "stream",
          "name": "stderr",
          "text": [
            "     91/100      6.69G     0.2561     0.5009     0.2263     0.8714         13        640: 100%|██████████| 1/1 [00:00<00:00,  1.59it/s]\n",
            "                 Class     Images  Instances      Box(P          R      mAP50  mAP50-95)     Mask(P          R      mAP50  mAP50-95): 100%|██████████| 1/1 [00:00<00:00,  5.55it/s]"
          ]
        },
        {
          "output_type": "stream",
          "name": "stdout",
          "text": [
            "                   all          4         17      0.901      0.465      0.736      0.491      0.254      0.717      0.669      0.445\n"
          ]
        },
        {
          "output_type": "stream",
          "name": "stderr",
          "text": [
            "\n"
          ]
        },
        {
          "output_type": "stream",
          "name": "stdout",
          "text": [
            "\n",
            "      Epoch    GPU_mem   box_loss   seg_loss   cls_loss   dfl_loss  Instances       Size\n"
          ]
        },
        {
          "output_type": "stream",
          "name": "stderr",
          "text": [
            "     92/100      6.67G     0.3019     0.5982      0.232     0.8552         13        640: 100%|██████████| 1/1 [00:00<00:00,  2.03it/s]\n",
            "                 Class     Images  Instances      Box(P          R      mAP50  mAP50-95)     Mask(P          R      mAP50  mAP50-95): 100%|██████████| 1/1 [00:00<00:00,  4.96it/s]"
          ]
        },
        {
          "output_type": "stream",
          "name": "stdout",
          "text": [
            "                   all          4         17       0.88      0.467      0.737      0.489      0.269      0.717       0.67      0.428\n"
          ]
        },
        {
          "output_type": "stream",
          "name": "stderr",
          "text": [
            "\n"
          ]
        },
        {
          "output_type": "stream",
          "name": "stdout",
          "text": [
            "\n",
            "      Epoch    GPU_mem   box_loss   seg_loss   cls_loss   dfl_loss  Instances       Size\n"
          ]
        },
        {
          "output_type": "stream",
          "name": "stderr",
          "text": [
            "     93/100      6.61G     0.2099     0.3849       0.18     0.7539         13        640: 100%|██████████| 1/1 [00:00<00:00,  2.16it/s]\n",
            "                 Class     Images  Instances      Box(P          R      mAP50  mAP50-95)     Mask(P          R      mAP50  mAP50-95): 100%|██████████| 1/1 [00:00<00:00,  5.04it/s]"
          ]
        },
        {
          "output_type": "stream",
          "name": "stdout",
          "text": [
            "                   all          4         17       0.88      0.467      0.737      0.489      0.269      0.717       0.67      0.428\n"
          ]
        },
        {
          "output_type": "stream",
          "name": "stderr",
          "text": [
            "\n"
          ]
        },
        {
          "output_type": "stream",
          "name": "stdout",
          "text": [
            "\n",
            "      Epoch    GPU_mem   box_loss   seg_loss   cls_loss   dfl_loss  Instances       Size\n"
          ]
        },
        {
          "output_type": "stream",
          "name": "stderr",
          "text": [
            "     94/100      6.67G     0.2456     0.5837     0.2064     0.8659         13        640: 100%|██████████| 1/1 [00:00<00:00,  2.15it/s]\n",
            "                 Class     Images  Instances      Box(P          R      mAP50  mAP50-95)     Mask(P          R      mAP50  mAP50-95): 100%|██████████| 1/1 [00:00<00:00,  5.63it/s]"
          ]
        },
        {
          "output_type": "stream",
          "name": "stdout",
          "text": [
            "                   all          4         17       0.88      0.467      0.737      0.489      0.269      0.717       0.67      0.428\n"
          ]
        },
        {
          "output_type": "stream",
          "name": "stderr",
          "text": [
            "\n"
          ]
        },
        {
          "output_type": "stream",
          "name": "stdout",
          "text": [
            "\n",
            "      Epoch    GPU_mem   box_loss   seg_loss   cls_loss   dfl_loss  Instances       Size\n"
          ]
        },
        {
          "output_type": "stream",
          "name": "stderr",
          "text": [
            "     95/100      6.69G     0.2567     0.4755     0.1727     0.8107         13        640: 100%|██████████| 1/1 [00:00<00:00,  1.69it/s]\n",
            "                 Class     Images  Instances      Box(P          R      mAP50  mAP50-95)     Mask(P          R      mAP50  mAP50-95): 100%|██████████| 1/1 [00:00<00:00,  5.89it/s]"
          ]
        },
        {
          "output_type": "stream",
          "name": "stdout",
          "text": [
            "                   all          4         17       0.88      0.467      0.737      0.489      0.269      0.717       0.67      0.428\n"
          ]
        },
        {
          "output_type": "stream",
          "name": "stderr",
          "text": [
            "\n"
          ]
        },
        {
          "output_type": "stream",
          "name": "stdout",
          "text": [
            "\n",
            "      Epoch    GPU_mem   box_loss   seg_loss   cls_loss   dfl_loss  Instances       Size\n"
          ]
        },
        {
          "output_type": "stream",
          "name": "stderr",
          "text": [
            "     96/100      6.67G     0.2077     0.4215     0.1865     0.8123         13        640: 100%|██████████| 1/1 [00:00<00:00,  1.78it/s]\n",
            "                 Class     Images  Instances      Box(P          R      mAP50  mAP50-95)     Mask(P          R      mAP50  mAP50-95): 100%|██████████| 1/1 [00:00<00:00,  6.18it/s]"
          ]
        },
        {
          "output_type": "stream",
          "name": "stdout",
          "text": [
            "                   all          4         17      0.715      0.728      0.654      0.407      0.289      0.717      0.587      0.344\n"
          ]
        },
        {
          "output_type": "stream",
          "name": "stderr",
          "text": [
            "\n"
          ]
        },
        {
          "output_type": "stream",
          "name": "stdout",
          "text": [
            "\n",
            "      Epoch    GPU_mem   box_loss   seg_loss   cls_loss   dfl_loss  Instances       Size\n"
          ]
        },
        {
          "output_type": "stream",
          "name": "stderr",
          "text": [
            "     97/100      6.61G     0.2332     0.4803     0.1995     0.7469         13        640: 100%|██████████| 1/1 [00:00<00:00,  1.42it/s]\n",
            "                 Class     Images  Instances      Box(P          R      mAP50  mAP50-95)     Mask(P          R      mAP50  mAP50-95): 100%|██████████| 1/1 [00:00<00:00,  4.60it/s]"
          ]
        },
        {
          "output_type": "stream",
          "name": "stdout",
          "text": [
            "                   all          4         17      0.715      0.728      0.654      0.407      0.289      0.717      0.587      0.344\n"
          ]
        },
        {
          "output_type": "stream",
          "name": "stderr",
          "text": [
            "\n"
          ]
        },
        {
          "output_type": "stream",
          "name": "stdout",
          "text": [
            "\n",
            "      Epoch    GPU_mem   box_loss   seg_loss   cls_loss   dfl_loss  Instances       Size\n"
          ]
        },
        {
          "output_type": "stream",
          "name": "stderr",
          "text": [
            "     98/100      6.67G     0.2212     0.4524      0.215     0.8501         13        640: 100%|██████████| 1/1 [00:00<00:00,  2.46it/s]\n",
            "                 Class     Images  Instances      Box(P          R      mAP50  mAP50-95)     Mask(P          R      mAP50  mAP50-95): 100%|██████████| 1/1 [00:00<00:00,  5.91it/s]"
          ]
        },
        {
          "output_type": "stream",
          "name": "stdout",
          "text": [
            "                   all          4         17      0.715      0.728      0.654      0.407      0.289      0.717      0.587      0.344\n"
          ]
        },
        {
          "output_type": "stream",
          "name": "stderr",
          "text": [
            "\n"
          ]
        },
        {
          "output_type": "stream",
          "name": "stdout",
          "text": [
            "\n",
            "      Epoch    GPU_mem   box_loss   seg_loss   cls_loss   dfl_loss  Instances       Size\n"
          ]
        },
        {
          "output_type": "stream",
          "name": "stderr",
          "text": [
            "     99/100       6.7G     0.2436     0.4625     0.1872     0.8363         13        640: 100%|██████████| 1/1 [00:00<00:00,  2.41it/s]\n",
            "                 Class     Images  Instances      Box(P          R      mAP50  mAP50-95)     Mask(P          R      mAP50  mAP50-95): 100%|██████████| 1/1 [00:00<00:00,  4.36it/s]"
          ]
        },
        {
          "output_type": "stream",
          "name": "stdout",
          "text": [
            "                   all          4         17      0.715      0.728      0.654      0.407      0.289      0.717      0.587      0.344\n"
          ]
        },
        {
          "output_type": "stream",
          "name": "stderr",
          "text": [
            "\n"
          ]
        },
        {
          "output_type": "stream",
          "name": "stdout",
          "text": [
            "\n",
            "      Epoch    GPU_mem   box_loss   seg_loss   cls_loss   dfl_loss  Instances       Size\n"
          ]
        },
        {
          "output_type": "stream",
          "name": "stderr",
          "text": [
            "    100/100      6.68G     0.2741     0.4873     0.2246     0.8848         13        640: 100%|██████████| 1/1 [00:00<00:00,  1.77it/s]\n",
            "                 Class     Images  Instances      Box(P          R      mAP50  mAP50-95)     Mask(P          R      mAP50  mAP50-95): 100%|██████████| 1/1 [00:00<00:00,  4.89it/s]"
          ]
        },
        {
          "output_type": "stream",
          "name": "stdout",
          "text": [
            "                   all          4         17      0.305      0.733      0.739      0.499        0.3      0.717      0.672       0.43\n"
          ]
        },
        {
          "output_type": "stream",
          "name": "stderr",
          "text": [
            "\n"
          ]
        },
        {
          "output_type": "stream",
          "name": "stdout",
          "text": [
            "\n",
            "100 epochs completed in 0.283 hours.\n",
            "Optimizer stripped from runs/segment/train/weights/last.pt, 125.0MB\n",
            "Optimizer stripped from runs/segment/train/weights/best.pt, 125.0MB\n",
            "\n",
            "Validating runs/segment/train/weights/best.pt...\n",
            "Ultralytics 8.3.29 🚀 Python-3.10.12 torch-2.5.0+cu121 CUDA:0 (Tesla T4, 15102MiB)\n",
            "YOLO11x-seg summary (fused): 491 layers, 62,094,528 parameters, 0 gradients, 319.0 GFLOPs\n"
          ]
        },
        {
          "output_type": "stream",
          "name": "stderr",
          "text": [
            "                 Class     Images  Instances      Box(P          R      mAP50  mAP50-95)     Mask(P          R      mAP50  mAP50-95): 100%|██████████| 1/1 [00:00<00:00,  4.49it/s]\n"
          ]
        },
        {
          "output_type": "stream",
          "name": "stdout",
          "text": [
            "                   all          4         17      0.908      0.951      0.976      0.848      0.926      0.925      0.947      0.719\n",
            "                person          3         10          1      0.708      0.882      0.636          1      0.571      0.709      0.397\n",
            "                   dog          1          1      0.847          1      0.995      0.995      0.879          1      0.995      0.995\n",
            "                 horse          1          2      0.863          1      0.995      0.808      0.882          1      0.995      0.457\n",
            "              elephant          1          2      0.968          1      0.995      0.761          1      0.982      0.995      0.575\n",
            "              umbrella          1          1      0.771          1      0.995      0.995      0.795          1      0.995      0.995\n",
            "          potted plant          1          1          1          1      0.995      0.895          1          1      0.995      0.895\n",
            "Speed: 0.3ms preprocess, 42.7ms inference, 0.0ms loss, 1.4ms postprocess per image\n",
            "Results saved to \u001b[1mruns/segment/train\u001b[0m\n"
          ]
        }
      ]
    },
    {
      "cell_type": "code",
      "source": [
        "from ultralytics import YOLO\n",
        "\n",
        "# Load a model\n",
        "model = YOLO(\"/content/yolo11x-seg.pt\")  # load a custom model\n",
        "\n",
        "# Validate the model\n",
        "metrics = model.val()  # no arguments needed, dataset and settings remembered\n",
        "metrics.box.map  # map50-95(B)\n",
        "metrics.box.map50  # map50(B)\n",
        "metrics.box.map75  # map75(B)\n",
        "metrics.box.maps  # a list contains map50-95(B) of each category\n",
        "metrics.seg.map  # map50-95(M)\n",
        "metrics.seg.map50  # map50(M)\n",
        "metrics.seg.map75  # map75(M)\n",
        "metrics.seg.maps  # a list contains map50-95(M) of each category"
      ],
      "metadata": {
        "colab": {
          "base_uri": "https://localhost:8080/",
          "height": 480
        },
        "id": "-zR0_Fo-L3-R",
        "outputId": "5759645c-1a65-47cf-99e0-2894b2c12b67"
      },
      "execution_count": 23,
      "outputs": [
        {
          "output_type": "stream",
          "name": "stdout",
          "text": [
            "Ultralytics 8.3.29 🚀 Python-3.10.12 torch-2.5.0+cu121 CUDA:0 (Tesla T4, 15102MiB)\n",
            "YOLO11x-seg summary (fused): 491 layers, 62,094,528 parameters, 0 gradients, 319.0 GFLOPs\n"
          ]
        },
        {
          "output_type": "error",
          "ename": "FileNotFoundError",
          "evalue": "'/ultralytics/ultralytics/cfg/datasets/coco.yaml' does not exist",
          "traceback": [
            "\u001b[0;31m---------------------------------------------------------------------------\u001b[0m",
            "\u001b[0;31mFileNotFoundError\u001b[0m                         Traceback (most recent call last)",
            "\u001b[0;32m<ipython-input-23-f0ab5f9edff1>\u001b[0m in \u001b[0;36m<cell line: 7>\u001b[0;34m()\u001b[0m\n\u001b[1;32m      5\u001b[0m \u001b[0;34m\u001b[0m\u001b[0m\n\u001b[1;32m      6\u001b[0m \u001b[0;31m# Validate the model\u001b[0m\u001b[0;34m\u001b[0m\u001b[0;34m\u001b[0m\u001b[0m\n\u001b[0;32m----> 7\u001b[0;31m \u001b[0mmetrics\u001b[0m \u001b[0;34m=\u001b[0m \u001b[0mmodel\u001b[0m\u001b[0;34m.\u001b[0m\u001b[0mval\u001b[0m\u001b[0;34m(\u001b[0m\u001b[0;34m)\u001b[0m  \u001b[0;31m# no arguments needed, dataset and settings remembered\u001b[0m\u001b[0;34m\u001b[0m\u001b[0;34m\u001b[0m\u001b[0m\n\u001b[0m\u001b[1;32m      8\u001b[0m \u001b[0mmetrics\u001b[0m\u001b[0;34m.\u001b[0m\u001b[0mbox\u001b[0m\u001b[0;34m.\u001b[0m\u001b[0mmap\u001b[0m  \u001b[0;31m# map50-95(B)\u001b[0m\u001b[0;34m\u001b[0m\u001b[0;34m\u001b[0m\u001b[0m\n\u001b[1;32m      9\u001b[0m \u001b[0mmetrics\u001b[0m\u001b[0;34m.\u001b[0m\u001b[0mbox\u001b[0m\u001b[0;34m.\u001b[0m\u001b[0mmap50\u001b[0m  \u001b[0;31m# map50(B)\u001b[0m\u001b[0;34m\u001b[0m\u001b[0;34m\u001b[0m\u001b[0m\n",
            "\u001b[0;32m/usr/local/lib/python3.10/dist-packages/ultralytics/engine/model.py\u001b[0m in \u001b[0;36mval\u001b[0;34m(self, validator, **kwargs)\u001b[0m\n\u001b[1;32m    633\u001b[0m \u001b[0;34m\u001b[0m\u001b[0m\n\u001b[1;32m    634\u001b[0m         \u001b[0mvalidator\u001b[0m \u001b[0;34m=\u001b[0m \u001b[0;34m(\u001b[0m\u001b[0mvalidator\u001b[0m \u001b[0;32mor\u001b[0m \u001b[0mself\u001b[0m\u001b[0;34m.\u001b[0m\u001b[0m_smart_load\u001b[0m\u001b[0;34m(\u001b[0m\u001b[0;34m\"validator\"\u001b[0m\u001b[0;34m)\u001b[0m\u001b[0;34m)\u001b[0m\u001b[0;34m(\u001b[0m\u001b[0margs\u001b[0m\u001b[0;34m=\u001b[0m\u001b[0margs\u001b[0m\u001b[0;34m,\u001b[0m \u001b[0m_callbacks\u001b[0m\u001b[0;34m=\u001b[0m\u001b[0mself\u001b[0m\u001b[0;34m.\u001b[0m\u001b[0mcallbacks\u001b[0m\u001b[0;34m)\u001b[0m\u001b[0;34m\u001b[0m\u001b[0;34m\u001b[0m\u001b[0m\n\u001b[0;32m--> 635\u001b[0;31m         \u001b[0mvalidator\u001b[0m\u001b[0;34m(\u001b[0m\u001b[0mmodel\u001b[0m\u001b[0;34m=\u001b[0m\u001b[0mself\u001b[0m\u001b[0;34m.\u001b[0m\u001b[0mmodel\u001b[0m\u001b[0;34m)\u001b[0m\u001b[0;34m\u001b[0m\u001b[0;34m\u001b[0m\u001b[0m\n\u001b[0m\u001b[1;32m    636\u001b[0m         \u001b[0mself\u001b[0m\u001b[0;34m.\u001b[0m\u001b[0mmetrics\u001b[0m \u001b[0;34m=\u001b[0m \u001b[0mvalidator\u001b[0m\u001b[0;34m.\u001b[0m\u001b[0mmetrics\u001b[0m\u001b[0;34m\u001b[0m\u001b[0;34m\u001b[0m\u001b[0m\n\u001b[1;32m    637\u001b[0m         \u001b[0;32mreturn\u001b[0m \u001b[0mvalidator\u001b[0m\u001b[0;34m.\u001b[0m\u001b[0mmetrics\u001b[0m\u001b[0;34m\u001b[0m\u001b[0;34m\u001b[0m\u001b[0m\n",
            "\u001b[0;32m/usr/local/lib/python3.10/dist-packages/torch/utils/_contextlib.py\u001b[0m in \u001b[0;36mdecorate_context\u001b[0;34m(*args, **kwargs)\u001b[0m\n\u001b[1;32m    114\u001b[0m     \u001b[0;32mdef\u001b[0m \u001b[0mdecorate_context\u001b[0m\u001b[0;34m(\u001b[0m\u001b[0;34m*\u001b[0m\u001b[0margs\u001b[0m\u001b[0;34m,\u001b[0m \u001b[0;34m**\u001b[0m\u001b[0mkwargs\u001b[0m\u001b[0;34m)\u001b[0m\u001b[0;34m:\u001b[0m\u001b[0;34m\u001b[0m\u001b[0;34m\u001b[0m\u001b[0m\n\u001b[1;32m    115\u001b[0m         \u001b[0;32mwith\u001b[0m \u001b[0mctx_factory\u001b[0m\u001b[0;34m(\u001b[0m\u001b[0;34m)\u001b[0m\u001b[0;34m:\u001b[0m\u001b[0;34m\u001b[0m\u001b[0;34m\u001b[0m\u001b[0m\n\u001b[0;32m--> 116\u001b[0;31m             \u001b[0;32mreturn\u001b[0m \u001b[0mfunc\u001b[0m\u001b[0;34m(\u001b[0m\u001b[0;34m*\u001b[0m\u001b[0margs\u001b[0m\u001b[0;34m,\u001b[0m \u001b[0;34m**\u001b[0m\u001b[0mkwargs\u001b[0m\u001b[0;34m)\u001b[0m\u001b[0;34m\u001b[0m\u001b[0;34m\u001b[0m\u001b[0m\n\u001b[0m\u001b[1;32m    117\u001b[0m \u001b[0;34m\u001b[0m\u001b[0m\n\u001b[1;32m    118\u001b[0m     \u001b[0;32mreturn\u001b[0m \u001b[0mdecorate_context\u001b[0m\u001b[0;34m\u001b[0m\u001b[0;34m\u001b[0m\u001b[0m\n",
            "\u001b[0;32m/usr/local/lib/python3.10/dist-packages/ultralytics/engine/validator.py\u001b[0m in \u001b[0;36m__call__\u001b[0;34m(self, trainer, model)\u001b[0m\n\u001b[1;32m    143\u001b[0m \u001b[0;34m\u001b[0m\u001b[0m\n\u001b[1;32m    144\u001b[0m             \u001b[0;32mif\u001b[0m \u001b[0mstr\u001b[0m\u001b[0;34m(\u001b[0m\u001b[0mself\u001b[0m\u001b[0;34m.\u001b[0m\u001b[0margs\u001b[0m\u001b[0;34m.\u001b[0m\u001b[0mdata\u001b[0m\u001b[0;34m)\u001b[0m\u001b[0;34m.\u001b[0m\u001b[0msplit\u001b[0m\u001b[0;34m(\u001b[0m\u001b[0;34m\".\"\u001b[0m\u001b[0;34m)\u001b[0m\u001b[0;34m[\u001b[0m\u001b[0;34m-\u001b[0m\u001b[0;36m1\u001b[0m\u001b[0;34m]\u001b[0m \u001b[0;32min\u001b[0m \u001b[0;34m{\u001b[0m\u001b[0;34m\"yaml\"\u001b[0m\u001b[0;34m,\u001b[0m \u001b[0;34m\"yml\"\u001b[0m\u001b[0;34m}\u001b[0m\u001b[0;34m:\u001b[0m\u001b[0;34m\u001b[0m\u001b[0;34m\u001b[0m\u001b[0m\n\u001b[0;32m--> 145\u001b[0;31m                 \u001b[0mself\u001b[0m\u001b[0;34m.\u001b[0m\u001b[0mdata\u001b[0m \u001b[0;34m=\u001b[0m \u001b[0mcheck_det_dataset\u001b[0m\u001b[0;34m(\u001b[0m\u001b[0mself\u001b[0m\u001b[0;34m.\u001b[0m\u001b[0margs\u001b[0m\u001b[0;34m.\u001b[0m\u001b[0mdata\u001b[0m\u001b[0;34m)\u001b[0m\u001b[0;34m\u001b[0m\u001b[0;34m\u001b[0m\u001b[0m\n\u001b[0m\u001b[1;32m    146\u001b[0m             \u001b[0;32melif\u001b[0m \u001b[0mself\u001b[0m\u001b[0;34m.\u001b[0m\u001b[0margs\u001b[0m\u001b[0;34m.\u001b[0m\u001b[0mtask\u001b[0m \u001b[0;34m==\u001b[0m \u001b[0;34m\"classify\"\u001b[0m\u001b[0;34m:\u001b[0m\u001b[0;34m\u001b[0m\u001b[0;34m\u001b[0m\u001b[0m\n\u001b[1;32m    147\u001b[0m                 \u001b[0mself\u001b[0m\u001b[0;34m.\u001b[0m\u001b[0mdata\u001b[0m \u001b[0;34m=\u001b[0m \u001b[0mcheck_cls_dataset\u001b[0m\u001b[0;34m(\u001b[0m\u001b[0mself\u001b[0m\u001b[0;34m.\u001b[0m\u001b[0margs\u001b[0m\u001b[0;34m.\u001b[0m\u001b[0mdata\u001b[0m\u001b[0;34m,\u001b[0m \u001b[0msplit\u001b[0m\u001b[0;34m=\u001b[0m\u001b[0mself\u001b[0m\u001b[0;34m.\u001b[0m\u001b[0margs\u001b[0m\u001b[0;34m.\u001b[0m\u001b[0msplit\u001b[0m\u001b[0;34m)\u001b[0m\u001b[0;34m\u001b[0m\u001b[0;34m\u001b[0m\u001b[0m\n",
            "\u001b[0;32m/usr/local/lib/python3.10/dist-packages/ultralytics/data/utils.py\u001b[0m in \u001b[0;36mcheck_det_dataset\u001b[0;34m(dataset, autodownload)\u001b[0m\n\u001b[1;32m    267\u001b[0m         \u001b[0;34m(\u001b[0m\u001b[0mdict\u001b[0m\u001b[0;34m)\u001b[0m\u001b[0;34m:\u001b[0m \u001b[0mParsed\u001b[0m \u001b[0mdataset\u001b[0m \u001b[0minformation\u001b[0m \u001b[0;32mand\u001b[0m \u001b[0mpaths\u001b[0m\u001b[0;34m.\u001b[0m\u001b[0;34m\u001b[0m\u001b[0;34m\u001b[0m\u001b[0m\n\u001b[1;32m    268\u001b[0m     \"\"\"\n\u001b[0;32m--> 269\u001b[0;31m     \u001b[0mfile\u001b[0m \u001b[0;34m=\u001b[0m \u001b[0mcheck_file\u001b[0m\u001b[0;34m(\u001b[0m\u001b[0mdataset\u001b[0m\u001b[0;34m)\u001b[0m\u001b[0;34m\u001b[0m\u001b[0;34m\u001b[0m\u001b[0m\n\u001b[0m\u001b[1;32m    270\u001b[0m \u001b[0;34m\u001b[0m\u001b[0m\n\u001b[1;32m    271\u001b[0m     \u001b[0;31m# Download (optional)\u001b[0m\u001b[0;34m\u001b[0m\u001b[0;34m\u001b[0m\u001b[0m\n",
            "\u001b[0;32m/usr/local/lib/python3.10/dist-packages/ultralytics/utils/checks.py\u001b[0m in \u001b[0;36mcheck_file\u001b[0;34m(file, suffix, download, download_dir, hard)\u001b[0m\n\u001b[1;32m    518\u001b[0m         \u001b[0mfiles\u001b[0m \u001b[0;34m=\u001b[0m \u001b[0mglob\u001b[0m\u001b[0;34m.\u001b[0m\u001b[0mglob\u001b[0m\u001b[0;34m(\u001b[0m\u001b[0mstr\u001b[0m\u001b[0;34m(\u001b[0m\u001b[0mROOT\u001b[0m \u001b[0;34m/\u001b[0m \u001b[0;34m\"**\"\u001b[0m \u001b[0;34m/\u001b[0m \u001b[0mfile\u001b[0m\u001b[0;34m)\u001b[0m\u001b[0;34m,\u001b[0m \u001b[0mrecursive\u001b[0m\u001b[0;34m=\u001b[0m\u001b[0;32mTrue\u001b[0m\u001b[0;34m)\u001b[0m \u001b[0;32mor\u001b[0m \u001b[0mglob\u001b[0m\u001b[0;34m.\u001b[0m\u001b[0mglob\u001b[0m\u001b[0;34m(\u001b[0m\u001b[0mstr\u001b[0m\u001b[0;34m(\u001b[0m\u001b[0mROOT\u001b[0m\u001b[0;34m.\u001b[0m\u001b[0mparent\u001b[0m \u001b[0;34m/\u001b[0m \u001b[0mfile\u001b[0m\u001b[0;34m)\u001b[0m\u001b[0;34m)\u001b[0m  \u001b[0;31m# find file\u001b[0m\u001b[0;34m\u001b[0m\u001b[0;34m\u001b[0m\u001b[0m\n\u001b[1;32m    519\u001b[0m         \u001b[0;32mif\u001b[0m \u001b[0;32mnot\u001b[0m \u001b[0mfiles\u001b[0m \u001b[0;32mand\u001b[0m \u001b[0mhard\u001b[0m\u001b[0;34m:\u001b[0m\u001b[0;34m\u001b[0m\u001b[0;34m\u001b[0m\u001b[0m\n\u001b[0;32m--> 520\u001b[0;31m             \u001b[0;32mraise\u001b[0m \u001b[0mFileNotFoundError\u001b[0m\u001b[0;34m(\u001b[0m\u001b[0;34mf\"'{file}' does not exist\"\u001b[0m\u001b[0;34m)\u001b[0m\u001b[0;34m\u001b[0m\u001b[0;34m\u001b[0m\u001b[0m\n\u001b[0m\u001b[1;32m    521\u001b[0m         \u001b[0;32melif\u001b[0m \u001b[0mlen\u001b[0m\u001b[0;34m(\u001b[0m\u001b[0mfiles\u001b[0m\u001b[0;34m)\u001b[0m \u001b[0;34m>\u001b[0m \u001b[0;36m1\u001b[0m \u001b[0;32mand\u001b[0m \u001b[0mhard\u001b[0m\u001b[0;34m:\u001b[0m\u001b[0;34m\u001b[0m\u001b[0;34m\u001b[0m\u001b[0m\n\u001b[1;32m    522\u001b[0m             \u001b[0;32mraise\u001b[0m \u001b[0mFileNotFoundError\u001b[0m\u001b[0;34m(\u001b[0m\u001b[0;34mf\"Multiple files match '{file}', specify exact path: {files}\"\u001b[0m\u001b[0;34m)\u001b[0m\u001b[0;34m\u001b[0m\u001b[0;34m\u001b[0m\u001b[0m\n",
            "\u001b[0;31mFileNotFoundError\u001b[0m: '/ultralytics/ultralytics/cfg/datasets/coco.yaml' does not exist"
          ]
        }
      ]
    },
    {
      "cell_type": "code",
      "source": [
        "# Loading our model\n",
        "model = YOLO('/content/yolo11x-seg.pt')\n",
        "\n",
        "results = model('/content/10.jpg', save = True)"
      ],
      "metadata": {
        "colab": {
          "base_uri": "https://localhost:8080/"
        },
        "id": "HwVT0vkqM2TC",
        "outputId": "6388aa06-3554-48c2-c83b-5d8bd5797602"
      },
      "execution_count": 25,
      "outputs": [
        {
          "output_type": "stream",
          "name": "stdout",
          "text": [
            "\n",
            "image 1/1 /content/10.jpg: 384x640 5 cars, 2 trucks, 134.8ms\n",
            "Speed: 2.2ms preprocess, 134.8ms inference, 5.3ms postprocess per image at shape (1, 3, 384, 640)\n",
            "Results saved to \u001b[1mruns/segment/predict5\u001b[0m\n"
          ]
        }
      ]
    },
    {
      "cell_type": "code",
      "source": [
        "from ultralytics import YOLO\n",
        "\n",
        "model = YOLO(\"/content/yolo11x-seg.pt\")  # load a custom model\n",
        "\n",
        "# Predict with the model\n",
        "results = model('/content/cars2.mp4', save=True)  # predict on an image"
      ],
      "metadata": {
        "colab": {
          "base_uri": "https://localhost:8080/"
        },
        "id": "BIUhfEQjNJF5",
        "outputId": "503648d8-e052-45f5-9568-2b3efe4a4589"
      },
      "execution_count": 28,
      "outputs": [
        {
          "output_type": "stream",
          "name": "stdout",
          "text": [
            "\n",
            "\n",
            "WARNING ⚠️ inference results will accumulate in RAM unless `stream=True` is passed, causing potential out-of-memory\n",
            "errors for large sources or long-running streams and videos. See https://docs.ultralytics.com/modes/predict/ for help.\n",
            "\n",
            "Example:\n",
            "    results = model(source=..., stream=True)  # generator of Results objects\n",
            "    for r in results:\n",
            "        boxes = r.boxes  # Boxes object for bbox outputs\n",
            "        masks = r.masks  # Masks object for segment masks outputs\n",
            "        probs = r.probs  # Class probabilities for classification outputs\n",
            "\n",
            "video 1/1 (frame 1/604) /content/cars2.mp4: 384x640 (no detections), 139.1ms\n",
            "video 1/1 (frame 2/604) /content/cars2.mp4: 384x640 (no detections), 103.2ms\n",
            "video 1/1 (frame 3/604) /content/cars2.mp4: 384x640 (no detections), 103.1ms\n",
            "video 1/1 (frame 4/604) /content/cars2.mp4: 384x640 (no detections), 101.3ms\n",
            "video 1/1 (frame 5/604) /content/cars2.mp4: 384x640 (no detections), 103.0ms\n",
            "video 1/1 (frame 6/604) /content/cars2.mp4: 384x640 (no detections), 101.5ms\n",
            "video 1/1 (frame 7/604) /content/cars2.mp4: 384x640 (no detections), 100.6ms\n",
            "video 1/1 (frame 8/604) /content/cars2.mp4: 384x640 (no detections), 101.8ms\n",
            "video 1/1 (frame 9/604) /content/cars2.mp4: 384x640 (no detections), 101.7ms\n",
            "video 1/1 (frame 10/604) /content/cars2.mp4: 384x640 (no detections), 101.7ms\n",
            "video 1/1 (frame 11/604) /content/cars2.mp4: 384x640 (no detections), 113.2ms\n",
            "video 1/1 (frame 12/604) /content/cars2.mp4: 384x640 (no detections), 100.9ms\n",
            "video 1/1 (frame 13/604) /content/cars2.mp4: 384x640 (no detections), 103.6ms\n",
            "video 1/1 (frame 14/604) /content/cars2.mp4: 384x640 (no detections), 101.6ms\n",
            "video 1/1 (frame 15/604) /content/cars2.mp4: 384x640 (no detections), 100.4ms\n",
            "video 1/1 (frame 16/604) /content/cars2.mp4: 384x640 (no detections), 101.9ms\n",
            "video 1/1 (frame 17/604) /content/cars2.mp4: 384x640 (no detections), 100.9ms\n",
            "video 1/1 (frame 18/604) /content/cars2.mp4: 384x640 (no detections), 101.4ms\n",
            "video 1/1 (frame 19/604) /content/cars2.mp4: 384x640 (no detections), 102.3ms\n",
            "video 1/1 (frame 20/604) /content/cars2.mp4: 384x640 (no detections), 103.3ms\n",
            "video 1/1 (frame 21/604) /content/cars2.mp4: 384x640 (no detections), 101.5ms\n",
            "video 1/1 (frame 22/604) /content/cars2.mp4: 384x640 (no detections), 100.8ms\n",
            "video 1/1 (frame 23/604) /content/cars2.mp4: 384x640 (no detections), 99.8ms\n",
            "video 1/1 (frame 24/604) /content/cars2.mp4: 384x640 (no detections), 103.0ms\n",
            "video 1/1 (frame 25/604) /content/cars2.mp4: 384x640 (no detections), 101.5ms\n",
            "video 1/1 (frame 26/604) /content/cars2.mp4: 384x640 (no detections), 100.3ms\n",
            "video 1/1 (frame 27/604) /content/cars2.mp4: 384x640 (no detections), 100.9ms\n",
            "video 1/1 (frame 28/604) /content/cars2.mp4: 384x640 (no detections), 101.1ms\n",
            "video 1/1 (frame 29/604) /content/cars2.mp4: 384x640 (no detections), 100.7ms\n",
            "video 1/1 (frame 30/604) /content/cars2.mp4: 384x640 (no detections), 103.7ms\n",
            "video 1/1 (frame 31/604) /content/cars2.mp4: 384x640 (no detections), 101.1ms\n",
            "video 1/1 (frame 32/604) /content/cars2.mp4: 384x640 (no detections), 100.8ms\n",
            "video 1/1 (frame 33/604) /content/cars2.mp4: 384x640 (no detections), 102.0ms\n",
            "video 1/1 (frame 34/604) /content/cars2.mp4: 384x640 (no detections), 100.0ms\n",
            "video 1/1 (frame 35/604) /content/cars2.mp4: 384x640 (no detections), 102.0ms\n",
            "video 1/1 (frame 36/604) /content/cars2.mp4: 384x640 (no detections), 102.3ms\n",
            "video 1/1 (frame 37/604) /content/cars2.mp4: 384x640 (no detections), 100.3ms\n",
            "video 1/1 (frame 38/604) /content/cars2.mp4: 384x640 (no detections), 102.1ms\n",
            "video 1/1 (frame 39/604) /content/cars2.mp4: 384x640 (no detections), 106.7ms\n",
            "video 1/1 (frame 40/604) /content/cars2.mp4: 384x640 (no detections), 101.7ms\n",
            "video 1/1 (frame 41/604) /content/cars2.mp4: 384x640 1 cell phone, 100.3ms\n",
            "video 1/1 (frame 42/604) /content/cars2.mp4: 384x640 (no detections), 100.8ms\n",
            "video 1/1 (frame 43/604) /content/cars2.mp4: 384x640 (no detections), 101.3ms\n",
            "video 1/1 (frame 44/604) /content/cars2.mp4: 384x640 (no detections), 100.6ms\n",
            "video 1/1 (frame 45/604) /content/cars2.mp4: 384x640 (no detections), 103.9ms\n",
            "video 1/1 (frame 46/604) /content/cars2.mp4: 384x640 (no detections), 101.8ms\n",
            "video 1/1 (frame 47/604) /content/cars2.mp4: 384x640 (no detections), 100.3ms\n",
            "video 1/1 (frame 48/604) /content/cars2.mp4: 384x640 (no detections), 103.0ms\n",
            "video 1/1 (frame 49/604) /content/cars2.mp4: 384x640 (no detections), 100.6ms\n",
            "video 1/1 (frame 50/604) /content/cars2.mp4: 384x640 (no detections), 101.9ms\n",
            "video 1/1 (frame 51/604) /content/cars2.mp4: 384x640 (no detections), 101.4ms\n",
            "video 1/1 (frame 52/604) /content/cars2.mp4: 384x640 (no detections), 100.3ms\n",
            "video 1/1 (frame 53/604) /content/cars2.mp4: 384x640 (no detections), 103.2ms\n",
            "video 1/1 (frame 54/604) /content/cars2.mp4: 384x640 (no detections), 101.2ms\n",
            "video 1/1 (frame 55/604) /content/cars2.mp4: 384x640 (no detections), 101.5ms\n",
            "video 1/1 (frame 56/604) /content/cars2.mp4: 384x640 (no detections), 101.6ms\n",
            "video 1/1 (frame 57/604) /content/cars2.mp4: 384x640 (no detections), 100.5ms\n",
            "video 1/1 (frame 58/604) /content/cars2.mp4: 384x640 (no detections), 103.3ms\n",
            "video 1/1 (frame 59/604) /content/cars2.mp4: 384x640 (no detections), 102.2ms\n",
            "video 1/1 (frame 60/604) /content/cars2.mp4: 384x640 (no detections), 101.8ms\n",
            "video 1/1 (frame 61/604) /content/cars2.mp4: 384x640 (no detections), 105.1ms\n",
            "video 1/1 (frame 62/604) /content/cars2.mp4: 384x640 (no detections), 101.8ms\n",
            "video 1/1 (frame 63/604) /content/cars2.mp4: 384x640 (no detections), 105.2ms\n",
            "video 1/1 (frame 64/604) /content/cars2.mp4: 384x640 (no detections), 101.9ms\n",
            "video 1/1 (frame 65/604) /content/cars2.mp4: 384x640 (no detections), 105.3ms\n",
            "video 1/1 (frame 66/604) /content/cars2.mp4: 384x640 (no detections), 101.8ms\n",
            "video 1/1 (frame 67/604) /content/cars2.mp4: 384x640 (no detections), 104.6ms\n",
            "video 1/1 (frame 68/604) /content/cars2.mp4: 384x640 (no detections), 101.4ms\n",
            "video 1/1 (frame 69/604) /content/cars2.mp4: 384x640 (no detections), 104.2ms\n",
            "video 1/1 (frame 70/604) /content/cars2.mp4: 384x640 (no detections), 100.1ms\n",
            "video 1/1 (frame 71/604) /content/cars2.mp4: 384x640 (no detections), 102.8ms\n",
            "video 1/1 (frame 72/604) /content/cars2.mp4: 384x640 (no detections), 102.0ms\n",
            "video 1/1 (frame 73/604) /content/cars2.mp4: 384x640 (no detections), 101.7ms\n",
            "video 1/1 (frame 74/604) /content/cars2.mp4: 384x640 (no detections), 106.1ms\n",
            "video 1/1 (frame 75/604) /content/cars2.mp4: 384x640 (no detections), 102.2ms\n",
            "video 1/1 (frame 76/604) /content/cars2.mp4: 384x640 (no detections), 104.7ms\n",
            "video 1/1 (frame 77/604) /content/cars2.mp4: 384x640 (no detections), 102.8ms\n",
            "video 1/1 (frame 78/604) /content/cars2.mp4: 384x640 (no detections), 104.2ms\n",
            "video 1/1 (frame 79/604) /content/cars2.mp4: 384x640 (no detections), 101.8ms\n",
            "video 1/1 (frame 80/604) /content/cars2.mp4: 384x640 (no detections), 104.2ms\n",
            "video 1/1 (frame 81/604) /content/cars2.mp4: 384x640 (no detections), 101.5ms\n",
            "video 1/1 (frame 82/604) /content/cars2.mp4: 384x640 (no detections), 104.2ms\n",
            "video 1/1 (frame 83/604) /content/cars2.mp4: 384x640 (no detections), 101.5ms\n",
            "video 1/1 (frame 84/604) /content/cars2.mp4: 384x640 (no detections), 103.7ms\n",
            "video 1/1 (frame 85/604) /content/cars2.mp4: 384x640 (no detections), 101.3ms\n",
            "video 1/1 (frame 86/604) /content/cars2.mp4: 384x640 (no detections), 104.5ms\n",
            "video 1/1 (frame 87/604) /content/cars2.mp4: 384x640 (no detections), 101.4ms\n",
            "video 1/1 (frame 88/604) /content/cars2.mp4: 384x640 (no detections), 103.7ms\n",
            "video 1/1 (frame 89/604) /content/cars2.mp4: 384x640 (no detections), 101.1ms\n",
            "video 1/1 (frame 90/604) /content/cars2.mp4: 384x640 (no detections), 103.8ms\n",
            "video 1/1 (frame 91/604) /content/cars2.mp4: 384x640 (no detections), 101.2ms\n",
            "video 1/1 (frame 92/604) /content/cars2.mp4: 384x640 (no detections), 103.8ms\n",
            "video 1/1 (frame 93/604) /content/cars2.mp4: 384x640 (no detections), 101.1ms\n",
            "video 1/1 (frame 94/604) /content/cars2.mp4: 384x640 (no detections), 104.0ms\n",
            "video 1/1 (frame 95/604) /content/cars2.mp4: 384x640 (no detections), 101.1ms\n",
            "video 1/1 (frame 96/604) /content/cars2.mp4: 384x640 (no detections), 103.1ms\n",
            "video 1/1 (frame 97/604) /content/cars2.mp4: 384x640 (no detections), 102.5ms\n",
            "video 1/1 (frame 98/604) /content/cars2.mp4: 384x640 (no detections), 102.3ms\n",
            "video 1/1 (frame 99/604) /content/cars2.mp4: 384x640 (no detections), 102.6ms\n",
            "video 1/1 (frame 100/604) /content/cars2.mp4: 384x640 (no detections), 103.0ms\n",
            "video 1/1 (frame 101/604) /content/cars2.mp4: 384x640 (no detections), 103.0ms\n",
            "video 1/1 (frame 102/604) /content/cars2.mp4: 384x640 (no detections), 103.7ms\n",
            "video 1/1 (frame 103/604) /content/cars2.mp4: 384x640 (no detections), 102.2ms\n",
            "video 1/1 (frame 104/604) /content/cars2.mp4: 384x640 (no detections), 104.0ms\n",
            "video 1/1 (frame 105/604) /content/cars2.mp4: 384x640 (no detections), 102.7ms\n",
            "video 1/1 (frame 106/604) /content/cars2.mp4: 384x640 (no detections), 102.6ms\n",
            "video 1/1 (frame 107/604) /content/cars2.mp4: 384x640 (no detections), 102.3ms\n",
            "video 1/1 (frame 108/604) /content/cars2.mp4: 384x640 (no detections), 100.6ms\n",
            "video 1/1 (frame 109/604) /content/cars2.mp4: 384x640 (no detections), 103.6ms\n",
            "video 1/1 (frame 110/604) /content/cars2.mp4: 384x640 (no detections), 101.4ms\n",
            "video 1/1 (frame 111/604) /content/cars2.mp4: 384x640 (no detections), 103.4ms\n",
            "video 1/1 (frame 112/604) /content/cars2.mp4: 384x640 (no detections), 103.2ms\n",
            "video 1/1 (frame 113/604) /content/cars2.mp4: 384x640 (no detections), 102.4ms\n",
            "video 1/1 (frame 114/604) /content/cars2.mp4: 384x640 (no detections), 102.8ms\n",
            "video 1/1 (frame 115/604) /content/cars2.mp4: 384x640 (no detections), 102.6ms\n",
            "video 1/1 (frame 116/604) /content/cars2.mp4: 384x640 (no detections), 102.3ms\n",
            "video 1/1 (frame 117/604) /content/cars2.mp4: 384x640 (no detections), 102.5ms\n",
            "video 1/1 (frame 118/604) /content/cars2.mp4: 384x640 (no detections), 101.9ms\n",
            "video 1/1 (frame 119/604) /content/cars2.mp4: 384x640 (no detections), 102.5ms\n",
            "video 1/1 (frame 120/604) /content/cars2.mp4: 384x640 (no detections), 104.6ms\n",
            "video 1/1 (frame 121/604) /content/cars2.mp4: 384x640 (no detections), 102.8ms\n",
            "video 1/1 (frame 122/604) /content/cars2.mp4: 384x640 1 broccoli, 104.5ms\n",
            "video 1/1 (frame 123/604) /content/cars2.mp4: 384x640 (no detections), 101.9ms\n",
            "video 1/1 (frame 124/604) /content/cars2.mp4: 384x640 1 cell phone, 101.0ms\n",
            "video 1/1 (frame 125/604) /content/cars2.mp4: 384x640 (no detections), 103.3ms\n",
            "video 1/1 (frame 126/604) /content/cars2.mp4: 384x640 (no detections), 104.5ms\n",
            "video 1/1 (frame 127/604) /content/cars2.mp4: 384x640 (no detections), 102.1ms\n",
            "video 1/1 (frame 128/604) /content/cars2.mp4: 384x640 (no detections), 103.7ms\n",
            "video 1/1 (frame 129/604) /content/cars2.mp4: 384x640 1 cell phone, 101.0ms\n",
            "video 1/1 (frame 130/604) /content/cars2.mp4: 384x640 (no detections), 102.4ms\n",
            "video 1/1 (frame 131/604) /content/cars2.mp4: 384x640 (no detections), 102.5ms\n",
            "video 1/1 (frame 132/604) /content/cars2.mp4: 384x640 1 broccoli, 104.0ms\n",
            "video 1/1 (frame 133/604) /content/cars2.mp4: 384x640 1 broccoli, 100.7ms\n",
            "video 1/1 (frame 134/604) /content/cars2.mp4: 384x640 1 broccoli, 1 cell phone, 103.1ms\n",
            "video 1/1 (frame 135/604) /content/cars2.mp4: 384x640 1 broccoli, 1 cell phone, 101.5ms\n",
            "video 1/1 (frame 136/604) /content/cars2.mp4: 384x640 (no detections), 101.3ms\n",
            "video 1/1 (frame 137/604) /content/cars2.mp4: 384x640 1 broccoli, 105.1ms\n",
            "video 1/1 (frame 138/604) /content/cars2.mp4: 384x640 (no detections), 101.7ms\n",
            "video 1/1 (frame 139/604) /content/cars2.mp4: 384x640 1 broccoli, 101.4ms\n",
            "video 1/1 (frame 140/604) /content/cars2.mp4: 384x640 2 broccolis, 103.5ms\n",
            "video 1/1 (frame 141/604) /content/cars2.mp4: 384x640 (no detections), 101.9ms\n",
            "video 1/1 (frame 142/604) /content/cars2.mp4: 384x640 (no detections), 101.2ms\n",
            "video 1/1 (frame 143/604) /content/cars2.mp4: 384x640 1 broccoli, 105.1ms\n",
            "video 1/1 (frame 144/604) /content/cars2.mp4: 384x640 1 broccoli, 101.5ms\n",
            "video 1/1 (frame 145/604) /content/cars2.mp4: 384x640 1 cell phone, 101.0ms\n",
            "video 1/1 (frame 146/604) /content/cars2.mp4: 384x640 1 broccoli, 1 cell phone, 102.1ms\n",
            "video 1/1 (frame 147/604) /content/cars2.mp4: 384x640 1 broccoli, 100.6ms\n",
            "video 1/1 (frame 148/604) /content/cars2.mp4: 384x640 1 broccoli, 101.3ms\n",
            "video 1/1 (frame 149/604) /content/cars2.mp4: 384x640 1 broccoli, 101.2ms\n",
            "video 1/1 (frame 150/604) /content/cars2.mp4: 384x640 1 cell phone, 100.7ms\n",
            "video 1/1 (frame 151/604) /content/cars2.mp4: 384x640 1 keyboard, 1 cell phone, 101.0ms\n",
            "video 1/1 (frame 152/604) /content/cars2.mp4: 384x640 1 broccoli, 104.8ms\n",
            "video 1/1 (frame 153/604) /content/cars2.mp4: 384x640 (no detections), 106.5ms\n",
            "video 1/1 (frame 154/604) /content/cars2.mp4: 384x640 1 cell phone, 103.0ms\n",
            "video 1/1 (frame 155/604) /content/cars2.mp4: 384x640 1 cell phone, 100.7ms\n",
            "video 1/1 (frame 156/604) /content/cars2.mp4: 384x640 1 cell phone, 100.7ms\n",
            "video 1/1 (frame 157/604) /content/cars2.mp4: 384x640 1 cell phone, 100.2ms\n",
            "video 1/1 (frame 158/604) /content/cars2.mp4: 384x640 (no detections), 102.1ms\n",
            "video 1/1 (frame 159/604) /content/cars2.mp4: 384x640 (no detections), 102.3ms\n",
            "video 1/1 (frame 160/604) /content/cars2.mp4: 384x640 1 cell phone, 102.5ms\n",
            "video 1/1 (frame 161/604) /content/cars2.mp4: 384x640 1 cell phone, 101.0ms\n",
            "video 1/1 (frame 162/604) /content/cars2.mp4: 384x640 1 cell phone, 102.0ms\n",
            "video 1/1 (frame 163/604) /content/cars2.mp4: 384x640 (no detections), 102.5ms\n",
            "video 1/1 (frame 164/604) /content/cars2.mp4: 384x640 (no detections), 102.5ms\n",
            "video 1/1 (frame 165/604) /content/cars2.mp4: 384x640 (no detections), 101.2ms\n",
            "video 1/1 (frame 166/604) /content/cars2.mp4: 384x640 1 broccoli, 1 cell phone, 103.1ms\n",
            "video 1/1 (frame 167/604) /content/cars2.mp4: 384x640 1 broccoli, 1 cell phone, 101.3ms\n",
            "video 1/1 (frame 168/604) /content/cars2.mp4: 384x640 1 cell phone, 100.6ms\n",
            "video 1/1 (frame 169/604) /content/cars2.mp4: 384x640 1 broccoli, 100.8ms\n",
            "video 1/1 (frame 170/604) /content/cars2.mp4: 384x640 1 broccoli, 102.0ms\n",
            "video 1/1 (frame 171/604) /content/cars2.mp4: 384x640 1 broccoli, 1 cell phone, 104.3ms\n",
            "video 1/1 (frame 172/604) /content/cars2.mp4: 384x640 1 broccoli, 1 cell phone, 101.5ms\n",
            "video 1/1 (frame 173/604) /content/cars2.mp4: 384x640 1 broccoli, 1 cell phone, 101.6ms\n",
            "video 1/1 (frame 174/604) /content/cars2.mp4: 384x640 1 broccoli, 101.3ms\n",
            "video 1/1 (frame 175/604) /content/cars2.mp4: 384x640 1 broccoli, 100.5ms\n",
            "video 1/1 (frame 176/604) /content/cars2.mp4: 384x640 1 broccoli, 100.7ms\n",
            "video 1/1 (frame 177/604) /content/cars2.mp4: 384x640 1 broccoli, 1 cell phone, 100.5ms\n",
            "video 1/1 (frame 178/604) /content/cars2.mp4: 384x640 1 broccoli, 1 cell phone, 107.6ms\n",
            "video 1/1 (frame 179/604) /content/cars2.mp4: 384x640 1 broccoli, 1 cell phone, 101.2ms\n",
            "video 1/1 (frame 180/604) /content/cars2.mp4: 384x640 1 broccoli, 103.9ms\n",
            "video 1/1 (frame 181/604) /content/cars2.mp4: 384x640 1 broccoli, 100.4ms\n",
            "video 1/1 (frame 182/604) /content/cars2.mp4: 384x640 1 broccoli, 1 cell phone, 101.3ms\n",
            "video 1/1 (frame 183/604) /content/cars2.mp4: 384x640 (no detections), 102.8ms\n",
            "video 1/1 (frame 184/604) /content/cars2.mp4: 384x640 1 cell phone, 101.0ms\n",
            "video 1/1 (frame 185/604) /content/cars2.mp4: 384x640 (no detections), 105.5ms\n",
            "video 1/1 (frame 186/604) /content/cars2.mp4: 384x640 (no detections), 109.9ms\n",
            "video 1/1 (frame 187/604) /content/cars2.mp4: 384x640 (no detections), 106.3ms\n",
            "video 1/1 (frame 188/604) /content/cars2.mp4: 384x640 (no detections), 100.5ms\n",
            "video 1/1 (frame 189/604) /content/cars2.mp4: 384x640 1 cell phone, 102.2ms\n",
            "video 1/1 (frame 190/604) /content/cars2.mp4: 384x640 (no detections), 100.8ms\n",
            "video 1/1 (frame 191/604) /content/cars2.mp4: 384x640 1 cell phone, 101.0ms\n",
            "video 1/1 (frame 192/604) /content/cars2.mp4: 384x640 (no detections), 101.6ms\n",
            "video 1/1 (frame 193/604) /content/cars2.mp4: 384x640 1 keyboard, 102.2ms\n",
            "video 1/1 (frame 194/604) /content/cars2.mp4: 384x640 (no detections), 112.9ms\n",
            "video 1/1 (frame 195/604) /content/cars2.mp4: 384x640 (no detections), 101.8ms\n",
            "video 1/1 (frame 196/604) /content/cars2.mp4: 384x640 1 cell phone, 102.0ms\n",
            "video 1/1 (frame 197/604) /content/cars2.mp4: 384x640 1 cell phone, 100.7ms\n",
            "video 1/1 (frame 198/604) /content/cars2.mp4: 384x640 1 cell phone, 100.3ms\n",
            "video 1/1 (frame 199/604) /content/cars2.mp4: 384x640 (no detections), 100.6ms\n",
            "video 1/1 (frame 200/604) /content/cars2.mp4: 384x640 (no detections), 102.4ms\n",
            "video 1/1 (frame 201/604) /content/cars2.mp4: 384x640 (no detections), 102.8ms\n",
            "video 1/1 (frame 202/604) /content/cars2.mp4: 384x640 1 cell phone, 104.0ms\n",
            "video 1/1 (frame 203/604) /content/cars2.mp4: 384x640 1 cell phone, 105.9ms\n",
            "video 1/1 (frame 204/604) /content/cars2.mp4: 384x640 1 cell phone, 100.8ms\n",
            "video 1/1 (frame 205/604) /content/cars2.mp4: 384x640 (no detections), 100.0ms\n",
            "video 1/1 (frame 206/604) /content/cars2.mp4: 384x640 (no detections), 100.3ms\n",
            "video 1/1 (frame 207/604) /content/cars2.mp4: 384x640 (no detections), 103.8ms\n",
            "video 1/1 (frame 208/604) /content/cars2.mp4: 384x640 1 cell phone, 101.2ms\n",
            "video 1/1 (frame 209/604) /content/cars2.mp4: 384x640 1 cell phone, 101.5ms\n",
            "video 1/1 (frame 210/604) /content/cars2.mp4: 384x640 1 cell phone, 102.4ms\n",
            "video 1/1 (frame 211/604) /content/cars2.mp4: 384x640 1 cell phone, 102.7ms\n",
            "video 1/1 (frame 212/604) /content/cars2.mp4: 384x640 (no detections), 102.1ms\n",
            "video 1/1 (frame 213/604) /content/cars2.mp4: 384x640 (no detections), 103.3ms\n",
            "video 1/1 (frame 214/604) /content/cars2.mp4: 384x640 (no detections), 102.7ms\n",
            "video 1/1 (frame 215/604) /content/cars2.mp4: 384x640 1 cell phone, 103.2ms\n",
            "video 1/1 (frame 216/604) /content/cars2.mp4: 384x640 1 cell phone, 101.1ms\n",
            "video 1/1 (frame 217/604) /content/cars2.mp4: 384x640 2 cell phones, 104.2ms\n",
            "video 1/1 (frame 218/604) /content/cars2.mp4: 384x640 1 cell phone, 102.5ms\n",
            "video 1/1 (frame 219/604) /content/cars2.mp4: 384x640 (no detections), 101.2ms\n",
            "video 1/1 (frame 220/604) /content/cars2.mp4: 384x640 (no detections), 105.8ms\n",
            "video 1/1 (frame 221/604) /content/cars2.mp4: 384x640 (no detections), 102.3ms\n",
            "video 1/1 (frame 222/604) /content/cars2.mp4: 384x640 1 cell phone, 104.1ms\n",
            "video 1/1 (frame 223/604) /content/cars2.mp4: 384x640 1 cell phone, 102.6ms\n",
            "video 1/1 (frame 224/604) /content/cars2.mp4: 384x640 1 cell phone, 101.4ms\n",
            "video 1/1 (frame 225/604) /content/cars2.mp4: 384x640 1 cell phone, 104.1ms\n",
            "video 1/1 (frame 226/604) /content/cars2.mp4: 384x640 (no detections), 102.5ms\n",
            "video 1/1 (frame 227/604) /content/cars2.mp4: 384x640 (no detections), 101.1ms\n",
            "video 1/1 (frame 228/604) /content/cars2.mp4: 384x640 (no detections), 103.7ms\n",
            "video 1/1 (frame 229/604) /content/cars2.mp4: 384x640 (no detections), 101.6ms\n",
            "video 1/1 (frame 230/604) /content/cars2.mp4: 384x640 1 cell phone, 103.9ms\n",
            "video 1/1 (frame 231/604) /content/cars2.mp4: 384x640 (no detections), 101.7ms\n",
            "video 1/1 (frame 232/604) /content/cars2.mp4: 384x640 1 cell phone, 104.4ms\n",
            "video 1/1 (frame 233/604) /content/cars2.mp4: 384x640 1 cell phone, 102.3ms\n",
            "video 1/1 (frame 234/604) /content/cars2.mp4: 384x640 (no detections), 101.9ms\n",
            "video 1/1 (frame 235/604) /content/cars2.mp4: 384x640 (no detections), 105.6ms\n",
            "video 1/1 (frame 236/604) /content/cars2.mp4: 384x640 (no detections), 103.1ms\n",
            "video 1/1 (frame 237/604) /content/cars2.mp4: 384x640 (no detections), 104.5ms\n",
            "video 1/1 (frame 238/604) /content/cars2.mp4: 384x640 (no detections), 103.1ms\n",
            "video 1/1 (frame 239/604) /content/cars2.mp4: 384x640 1 potted plant, 101.9ms\n",
            "video 1/1 (frame 240/604) /content/cars2.mp4: 384x640 (no detections), 103.5ms\n",
            "video 1/1 (frame 241/604) /content/cars2.mp4: 384x640 (no detections), 102.7ms\n",
            "video 1/1 (frame 242/604) /content/cars2.mp4: 384x640 (no detections), 105.4ms\n",
            "video 1/1 (frame 243/604) /content/cars2.mp4: 384x640 (no detections), 102.9ms\n",
            "video 1/1 (frame 244/604) /content/cars2.mp4: 384x640 (no detections), 104.3ms\n",
            "video 1/1 (frame 245/604) /content/cars2.mp4: 384x640 (no detections), 102.9ms\n",
            "video 1/1 (frame 246/604) /content/cars2.mp4: 384x640 (no detections), 105.4ms\n",
            "video 1/1 (frame 247/604) /content/cars2.mp4: 384x640 1 potted plant, 103.4ms\n",
            "video 1/1 (frame 248/604) /content/cars2.mp4: 384x640 (no detections), 101.1ms\n",
            "video 1/1 (frame 249/604) /content/cars2.mp4: 384x640 (no detections), 105.0ms\n",
            "video 1/1 (frame 250/604) /content/cars2.mp4: 384x640 (no detections), 102.8ms\n",
            "video 1/1 (frame 251/604) /content/cars2.mp4: 384x640 (no detections), 105.4ms\n",
            "video 1/1 (frame 252/604) /content/cars2.mp4: 384x640 (no detections), 103.0ms\n",
            "video 1/1 (frame 253/604) /content/cars2.mp4: 384x640 (no detections), 103.3ms\n",
            "video 1/1 (frame 254/604) /content/cars2.mp4: 384x640 (no detections), 103.5ms\n",
            "video 1/1 (frame 255/604) /content/cars2.mp4: 384x640 (no detections), 102.7ms\n",
            "video 1/1 (frame 256/604) /content/cars2.mp4: 384x640 (no detections), 110.5ms\n",
            "video 1/1 (frame 257/604) /content/cars2.mp4: 384x640 1 potted plant, 101.1ms\n",
            "video 1/1 (frame 258/604) /content/cars2.mp4: 384x640 1 potted plant, 103.9ms\n",
            "video 1/1 (frame 259/604) /content/cars2.mp4: 384x640 1 potted plant, 102.6ms\n",
            "video 1/1 (frame 260/604) /content/cars2.mp4: 384x640 (no detections), 102.3ms\n",
            "video 1/1 (frame 261/604) /content/cars2.mp4: 384x640 (no detections), 103.0ms\n",
            "video 1/1 (frame 262/604) /content/cars2.mp4: 384x640 (no detections), 103.1ms\n",
            "video 1/1 (frame 263/604) /content/cars2.mp4: 384x640 (no detections), 104.1ms\n",
            "video 1/1 (frame 264/604) /content/cars2.mp4: 384x640 (no detections), 105.4ms\n",
            "video 1/1 (frame 265/604) /content/cars2.mp4: 384x640 (no detections), 101.7ms\n",
            "video 1/1 (frame 266/604) /content/cars2.mp4: 384x640 (no detections), 104.7ms\n",
            "video 1/1 (frame 267/604) /content/cars2.mp4: 384x640 (no detections), 102.2ms\n",
            "video 1/1 (frame 268/604) /content/cars2.mp4: 384x640 (no detections), 105.0ms\n",
            "video 1/1 (frame 269/604) /content/cars2.mp4: 384x640 (no detections), 101.3ms\n",
            "video 1/1 (frame 270/604) /content/cars2.mp4: 384x640 (no detections), 104.2ms\n",
            "video 1/1 (frame 271/604) /content/cars2.mp4: 384x640 1 potted plant, 102.0ms\n",
            "video 1/1 (frame 272/604) /content/cars2.mp4: 384x640 (no detections), 101.4ms\n",
            "video 1/1 (frame 273/604) /content/cars2.mp4: 384x640 1 potted plant, 105.9ms\n",
            "video 1/1 (frame 274/604) /content/cars2.mp4: 384x640 1 potted plant, 102.4ms\n",
            "video 1/1 (frame 275/604) /content/cars2.mp4: 384x640 (no detections), 100.8ms\n",
            "video 1/1 (frame 276/604) /content/cars2.mp4: 384x640 (no detections), 105.7ms\n",
            "video 1/1 (frame 277/604) /content/cars2.mp4: 384x640 (no detections), 103.3ms\n",
            "video 1/1 (frame 278/604) /content/cars2.mp4: 384x640 (no detections), 104.1ms\n",
            "video 1/1 (frame 279/604) /content/cars2.mp4: 384x640 (no detections), 103.9ms\n",
            "video 1/1 (frame 280/604) /content/cars2.mp4: 384x640 (no detections), 103.8ms\n",
            "video 1/1 (frame 281/604) /content/cars2.mp4: 384x640 (no detections), 103.7ms\n",
            "video 1/1 (frame 282/604) /content/cars2.mp4: 384x640 (no detections), 102.1ms\n",
            "video 1/1 (frame 283/604) /content/cars2.mp4: 384x640 1 potted plant, 106.1ms\n",
            "video 1/1 (frame 284/604) /content/cars2.mp4: 384x640 (no detections), 101.9ms\n",
            "video 1/1 (frame 285/604) /content/cars2.mp4: 384x640 (no detections), 103.0ms\n",
            "video 1/1 (frame 286/604) /content/cars2.mp4: 384x640 (no detections), 103.2ms\n",
            "video 1/1 (frame 287/604) /content/cars2.mp4: 384x640 (no detections), 102.7ms\n",
            "video 1/1 (frame 288/604) /content/cars2.mp4: 384x640 1 cell phone, 103.4ms\n",
            "video 1/1 (frame 289/604) /content/cars2.mp4: 384x640 (no detections), 101.5ms\n",
            "video 1/1 (frame 290/604) /content/cars2.mp4: 384x640 (no detections), 106.6ms\n",
            "video 1/1 (frame 291/604) /content/cars2.mp4: 384x640 (no detections), 101.9ms\n",
            "video 1/1 (frame 292/604) /content/cars2.mp4: 384x640 (no detections), 105.1ms\n",
            "video 1/1 (frame 293/604) /content/cars2.mp4: 384x640 (no detections), 101.6ms\n",
            "video 1/1 (frame 294/604) /content/cars2.mp4: 384x640 (no detections), 105.5ms\n",
            "video 1/1 (frame 295/604) /content/cars2.mp4: 384x640 (no detections), 102.6ms\n",
            "video 1/1 (frame 296/604) /content/cars2.mp4: 384x640 (no detections), 105.1ms\n",
            "video 1/1 (frame 297/604) /content/cars2.mp4: 384x640 (no detections), 103.2ms\n",
            "video 1/1 (frame 298/604) /content/cars2.mp4: 384x640 1 cell phone, 104.0ms\n",
            "video 1/1 (frame 299/604) /content/cars2.mp4: 384x640 (no detections), 100.7ms\n",
            "video 1/1 (frame 300/604) /content/cars2.mp4: 384x640 (no detections), 102.1ms\n",
            "video 1/1 (frame 301/604) /content/cars2.mp4: 384x640 (no detections), 101.6ms\n",
            "video 1/1 (frame 302/604) /content/cars2.mp4: 384x640 (no detections), 104.4ms\n",
            "video 1/1 (frame 303/604) /content/cars2.mp4: 384x640 (no detections), 102.3ms\n",
            "video 1/1 (frame 304/604) /content/cars2.mp4: 384x640 (no detections), 101.5ms\n",
            "video 1/1 (frame 305/604) /content/cars2.mp4: 384x640 (no detections), 104.0ms\n",
            "video 1/1 (frame 306/604) /content/cars2.mp4: 384x640 (no detections), 103.1ms\n",
            "video 1/1 (frame 307/604) /content/cars2.mp4: 384x640 (no detections), 102.1ms\n",
            "video 1/1 (frame 308/604) /content/cars2.mp4: 384x640 (no detections), 103.8ms\n",
            "video 1/1 (frame 309/604) /content/cars2.mp4: 384x640 (no detections), 102.0ms\n",
            "video 1/1 (frame 310/604) /content/cars2.mp4: 384x640 (no detections), 101.3ms\n",
            "video 1/1 (frame 311/604) /content/cars2.mp4: 384x640 (no detections), 103.8ms\n",
            "video 1/1 (frame 312/604) /content/cars2.mp4: 384x640 (no detections), 101.9ms\n",
            "video 1/1 (frame 313/604) /content/cars2.mp4: 384x640 (no detections), 101.7ms\n",
            "video 1/1 (frame 314/604) /content/cars2.mp4: 384x640 (no detections), 104.5ms\n",
            "video 1/1 (frame 315/604) /content/cars2.mp4: 384x640 1 potted plant, 102.8ms\n",
            "video 1/1 (frame 316/604) /content/cars2.mp4: 384x640 (no detections), 100.8ms\n",
            "video 1/1 (frame 317/604) /content/cars2.mp4: 384x640 (no detections), 103.5ms\n",
            "video 1/1 (frame 318/604) /content/cars2.mp4: 384x640 (no detections), 102.9ms\n",
            "video 1/1 (frame 319/604) /content/cars2.mp4: 384x640 (no detections), 100.7ms\n",
            "video 1/1 (frame 320/604) /content/cars2.mp4: 384x640 (no detections), 105.0ms\n",
            "video 1/1 (frame 321/604) /content/cars2.mp4: 384x640 (no detections), 106.3ms\n",
            "video 1/1 (frame 322/604) /content/cars2.mp4: 384x640 (no detections), 102.7ms\n",
            "video 1/1 (frame 323/604) /content/cars2.mp4: 384x640 (no detections), 103.1ms\n",
            "video 1/1 (frame 324/604) /content/cars2.mp4: 384x640 (no detections), 104.1ms\n",
            "video 1/1 (frame 325/604) /content/cars2.mp4: 384x640 (no detections), 102.4ms\n",
            "video 1/1 (frame 326/604) /content/cars2.mp4: 384x640 (no detections), 104.6ms\n",
            "video 1/1 (frame 327/604) /content/cars2.mp4: 384x640 (no detections), 102.4ms\n",
            "video 1/1 (frame 328/604) /content/cars2.mp4: 384x640 (no detections), 101.6ms\n",
            "video 1/1 (frame 329/604) /content/cars2.mp4: 384x640 (no detections), 102.8ms\n",
            "video 1/1 (frame 330/604) /content/cars2.mp4: 384x640 (no detections), 107.3ms\n",
            "video 1/1 (frame 331/604) /content/cars2.mp4: 384x640 (no detections), 102.0ms\n",
            "video 1/1 (frame 332/604) /content/cars2.mp4: 384x640 (no detections), 101.3ms\n",
            "video 1/1 (frame 333/604) /content/cars2.mp4: 384x640 (no detections), 104.5ms\n",
            "video 1/1 (frame 334/604) /content/cars2.mp4: 384x640 (no detections), 104.9ms\n",
            "video 1/1 (frame 335/604) /content/cars2.mp4: 384x640 1 potted plant, 101.2ms\n",
            "video 1/1 (frame 336/604) /content/cars2.mp4: 384x640 (no detections), 101.9ms\n",
            "video 1/1 (frame 337/604) /content/cars2.mp4: 384x640 (no detections), 103.9ms\n",
            "video 1/1 (frame 338/604) /content/cars2.mp4: 384x640 (no detections), 102.0ms\n",
            "video 1/1 (frame 339/604) /content/cars2.mp4: 384x640 (no detections), 101.8ms\n",
            "video 1/1 (frame 340/604) /content/cars2.mp4: 384x640 (no detections), 102.6ms\n",
            "video 1/1 (frame 341/604) /content/cars2.mp4: 384x640 (no detections), 101.1ms\n",
            "video 1/1 (frame 342/604) /content/cars2.mp4: 384x640 (no detections), 104.8ms\n",
            "video 1/1 (frame 343/604) /content/cars2.mp4: 384x640 (no detections), 106.1ms\n",
            "video 1/1 (frame 344/604) /content/cars2.mp4: 384x640 (no detections), 104.5ms\n",
            "video 1/1 (frame 345/604) /content/cars2.mp4: 384x640 (no detections), 101.9ms\n",
            "video 1/1 (frame 346/604) /content/cars2.mp4: 384x640 (no detections), 104.1ms\n",
            "video 1/1 (frame 347/604) /content/cars2.mp4: 384x640 (no detections), 102.6ms\n",
            "video 1/1 (frame 348/604) /content/cars2.mp4: 384x640 1 potted plant, 102.2ms\n",
            "video 1/1 (frame 349/604) /content/cars2.mp4: 384x640 (no detections), 102.3ms\n",
            "video 1/1 (frame 350/604) /content/cars2.mp4: 384x640 1 sink, 103.0ms\n",
            "video 1/1 (frame 351/604) /content/cars2.mp4: 384x640 (no detections), 103.7ms\n",
            "video 1/1 (frame 352/604) /content/cars2.mp4: 384x640 1 potted plant, 102.4ms\n",
            "video 1/1 (frame 353/604) /content/cars2.mp4: 384x640 1 potted plant, 101.4ms\n",
            "video 1/1 (frame 354/604) /content/cars2.mp4: 384x640 (no detections), 101.7ms\n",
            "video 1/1 (frame 355/604) /content/cars2.mp4: 384x640 (no detections), 102.7ms\n",
            "video 1/1 (frame 356/604) /content/cars2.mp4: 384x640 (no detections), 104.8ms\n",
            "video 1/1 (frame 357/604) /content/cars2.mp4: 384x640 (no detections), 102.4ms\n",
            "video 1/1 (frame 358/604) /content/cars2.mp4: 384x640 1 potted plant, 106.0ms\n",
            "video 1/1 (frame 359/604) /content/cars2.mp4: 384x640 1 potted plant, 102.6ms\n",
            "video 1/1 (frame 360/604) /content/cars2.mp4: 384x640 1 potted plant, 104.0ms\n",
            "video 1/1 (frame 361/604) /content/cars2.mp4: 384x640 2 potted plants, 104.9ms\n",
            "video 1/1 (frame 362/604) /content/cars2.mp4: 384x640 2 potted plants, 102.0ms\n",
            "video 1/1 (frame 363/604) /content/cars2.mp4: 384x640 (no detections), 101.5ms\n",
            "video 1/1 (frame 364/604) /content/cars2.mp4: 384x640 (no detections), 105.3ms\n",
            "video 1/1 (frame 365/604) /content/cars2.mp4: 384x640 (no detections), 103.2ms\n",
            "video 1/1 (frame 366/604) /content/cars2.mp4: 384x640 (no detections), 103.6ms\n",
            "video 1/1 (frame 367/604) /content/cars2.mp4: 384x640 (no detections), 104.0ms\n",
            "video 1/1 (frame 368/604) /content/cars2.mp4: 384x640 (no detections), 103.1ms\n",
            "video 1/1 (frame 369/604) /content/cars2.mp4: 384x640 (no detections), 103.7ms\n",
            "video 1/1 (frame 370/604) /content/cars2.mp4: 384x640 (no detections), 103.7ms\n",
            "video 1/1 (frame 371/604) /content/cars2.mp4: 384x640 (no detections), 104.2ms\n",
            "video 1/1 (frame 372/604) /content/cars2.mp4: 384x640 1 potted plant, 102.9ms\n",
            "video 1/1 (frame 373/604) /content/cars2.mp4: 384x640 1 potted plant, 103.4ms\n",
            "video 1/1 (frame 374/604) /content/cars2.mp4: 384x640 (no detections), 102.8ms\n",
            "video 1/1 (frame 375/604) /content/cars2.mp4: 384x640 (no detections), 104.9ms\n",
            "video 1/1 (frame 376/604) /content/cars2.mp4: 384x640 1 potted plant, 103.5ms\n",
            "video 1/1 (frame 377/604) /content/cars2.mp4: 384x640 (no detections), 101.7ms\n",
            "video 1/1 (frame 378/604) /content/cars2.mp4: 384x640 1 potted plant, 106.0ms\n",
            "video 1/1 (frame 379/604) /content/cars2.mp4: 384x640 1 potted plant, 103.1ms\n",
            "video 1/1 (frame 380/604) /content/cars2.mp4: 384x640 2 potted plants, 101.6ms\n",
            "video 1/1 (frame 381/604) /content/cars2.mp4: 384x640 (no detections), 102.5ms\n",
            "video 1/1 (frame 382/604) /content/cars2.mp4: 384x640 2 potted plants, 105.1ms\n",
            "video 1/1 (frame 383/604) /content/cars2.mp4: 384x640 1 potted plant, 102.1ms\n",
            "video 1/1 (frame 384/604) /content/cars2.mp4: 384x640 1 potted plant, 102.4ms\n",
            "video 1/1 (frame 385/604) /content/cars2.mp4: 384x640 1 potted plant, 104.0ms\n",
            "video 1/1 (frame 386/604) /content/cars2.mp4: 384x640 2 potted plants, 102.2ms\n",
            "video 1/1 (frame 387/604) /content/cars2.mp4: 384x640 (no detections), 102.5ms\n",
            "video 1/1 (frame 388/604) /content/cars2.mp4: 384x640 (no detections), 105.0ms\n",
            "video 1/1 (frame 389/604) /content/cars2.mp4: 384x640 (no detections), 103.5ms\n",
            "video 1/1 (frame 390/604) /content/cars2.mp4: 384x640 3 potted plants, 104.1ms\n",
            "video 1/1 (frame 391/604) /content/cars2.mp4: 384x640 2 potted plants, 103.2ms\n",
            "video 1/1 (frame 392/604) /content/cars2.mp4: 384x640 2 potted plants, 102.2ms\n",
            "video 1/1 (frame 393/604) /content/cars2.mp4: 384x640 3 potted plants, 103.9ms\n",
            "video 1/1 (frame 394/604) /content/cars2.mp4: 384x640 3 potted plants, 103.5ms\n",
            "video 1/1 (frame 395/604) /content/cars2.mp4: 384x640 2 potted plants, 101.3ms\n",
            "video 1/1 (frame 396/604) /content/cars2.mp4: 384x640 (no detections), 102.6ms\n",
            "video 1/1 (frame 397/604) /content/cars2.mp4: 384x640 3 potted plants, 104.2ms\n",
            "video 1/1 (frame 398/604) /content/cars2.mp4: 384x640 2 potted plants, 103.2ms\n",
            "video 1/1 (frame 399/604) /content/cars2.mp4: 384x640 3 potted plants, 102.3ms\n",
            "video 1/1 (frame 400/604) /content/cars2.mp4: 384x640 2 potted plants, 103.3ms\n",
            "video 1/1 (frame 401/604) /content/cars2.mp4: 384x640 2 potted plants, 105.0ms\n",
            "video 1/1 (frame 402/604) /content/cars2.mp4: 384x640 1 potted plant, 103.0ms\n",
            "video 1/1 (frame 403/604) /content/cars2.mp4: 384x640 3 potted plants, 102.0ms\n",
            "video 1/1 (frame 404/604) /content/cars2.mp4: 384x640 3 potted plants, 104.4ms\n",
            "video 1/1 (frame 405/604) /content/cars2.mp4: 384x640 3 potted plants, 102.7ms\n",
            "video 1/1 (frame 406/604) /content/cars2.mp4: 384x640 3 potted plants, 102.6ms\n",
            "video 1/1 (frame 407/604) /content/cars2.mp4: 384x640 3 potted plants, 102.9ms\n",
            "video 1/1 (frame 408/604) /content/cars2.mp4: 384x640 3 potted plants, 106.2ms\n",
            "video 1/1 (frame 409/604) /content/cars2.mp4: 384x640 3 potted plants, 102.9ms\n",
            "video 1/1 (frame 410/604) /content/cars2.mp4: 384x640 3 potted plants, 101.8ms\n",
            "video 1/1 (frame 411/604) /content/cars2.mp4: 384x640 1 potted plant, 103.8ms\n",
            "video 1/1 (frame 412/604) /content/cars2.mp4: 384x640 1 potted plant, 103.6ms\n",
            "video 1/1 (frame 413/604) /content/cars2.mp4: 384x640 1 potted plant, 103.1ms\n",
            "video 1/1 (frame 414/604) /content/cars2.mp4: 384x640 1 potted plant, 102.4ms\n",
            "video 1/1 (frame 415/604) /content/cars2.mp4: 384x640 (no detections), 102.8ms\n",
            "video 1/1 (frame 416/604) /content/cars2.mp4: 384x640 (no detections), 105.1ms\n",
            "video 1/1 (frame 417/604) /content/cars2.mp4: 384x640 (no detections), 102.0ms\n",
            "video 1/1 (frame 418/604) /content/cars2.mp4: 384x640 1 potted plant, 105.6ms\n",
            "video 1/1 (frame 419/604) /content/cars2.mp4: 384x640 (no detections), 102.5ms\n",
            "video 1/1 (frame 420/604) /content/cars2.mp4: 384x640 (no detections), 105.9ms\n",
            "video 1/1 (frame 421/604) /content/cars2.mp4: 384x640 (no detections), 104.5ms\n",
            "video 1/1 (frame 422/604) /content/cars2.mp4: 384x640 (no detections), 102.8ms\n",
            "video 1/1 (frame 423/604) /content/cars2.mp4: 384x640 (no detections), 103.9ms\n",
            "video 1/1 (frame 424/604) /content/cars2.mp4: 384x640 (no detections), 104.1ms\n",
            "video 1/1 (frame 425/604) /content/cars2.mp4: 384x640 (no detections), 104.0ms\n",
            "video 1/1 (frame 426/604) /content/cars2.mp4: 384x640 1 potted plant, 102.9ms\n",
            "video 1/1 (frame 427/604) /content/cars2.mp4: 384x640 1 potted plant, 103.9ms\n",
            "video 1/1 (frame 428/604) /content/cars2.mp4: 384x640 1 potted plant, 102.8ms\n",
            "video 1/1 (frame 429/604) /content/cars2.mp4: 384x640 1 potted plant, 102.3ms\n",
            "video 1/1 (frame 430/604) /content/cars2.mp4: 384x640 (no detections), 104.5ms\n",
            "video 1/1 (frame 431/604) /content/cars2.mp4: 384x640 1 potted plant, 102.9ms\n",
            "video 1/1 (frame 432/604) /content/cars2.mp4: 384x640 1 potted plant, 102.8ms\n",
            "video 1/1 (frame 433/604) /content/cars2.mp4: 384x640 1 potted plant, 104.9ms\n",
            "video 1/1 (frame 434/604) /content/cars2.mp4: 384x640 2 potted plants, 102.9ms\n",
            "video 1/1 (frame 435/604) /content/cars2.mp4: 384x640 1 potted plant, 101.4ms\n",
            "video 1/1 (frame 436/604) /content/cars2.mp4: 384x640 1 potted plant, 104.9ms\n",
            "video 1/1 (frame 437/604) /content/cars2.mp4: 384x640 1 boat, 1 potted plant, 103.9ms\n",
            "video 1/1 (frame 438/604) /content/cars2.mp4: 384x640 1 boat, 1 potted plant, 102.5ms\n",
            "video 1/1 (frame 439/604) /content/cars2.mp4: 384x640 1 boat, 1 potted plant, 102.0ms\n",
            "video 1/1 (frame 440/604) /content/cars2.mp4: 384x640 1 boat, 2 potted plants, 104.5ms\n",
            "video 1/1 (frame 441/604) /content/cars2.mp4: 384x640 1 boat, 2 potted plants, 103.0ms\n",
            "video 1/1 (frame 442/604) /content/cars2.mp4: 384x640 1 potted plant, 102.3ms\n",
            "video 1/1 (frame 443/604) /content/cars2.mp4: 384x640 1 boat, 1 potted plant, 104.1ms\n",
            "video 1/1 (frame 444/604) /content/cars2.mp4: 384x640 (no detections), 103.5ms\n",
            "video 1/1 (frame 445/604) /content/cars2.mp4: 384x640 (no detections), 102.7ms\n",
            "video 1/1 (frame 446/604) /content/cars2.mp4: 384x640 (no detections), 106.0ms\n",
            "video 1/1 (frame 447/604) /content/cars2.mp4: 384x640 (no detections), 114.5ms\n",
            "video 1/1 (frame 448/604) /content/cars2.mp4: 384x640 (no detections), 103.4ms\n",
            "video 1/1 (frame 449/604) /content/cars2.mp4: 384x640 1 potted plant, 101.8ms\n",
            "video 1/1 (frame 450/604) /content/cars2.mp4: 384x640 (no detections), 102.5ms\n",
            "video 1/1 (frame 451/604) /content/cars2.mp4: 384x640 (no detections), 102.6ms\n",
            "video 1/1 (frame 452/604) /content/cars2.mp4: 384x640 (no detections), 105.2ms\n",
            "video 1/1 (frame 453/604) /content/cars2.mp4: 384x640 (no detections), 103.5ms\n",
            "video 1/1 (frame 454/604) /content/cars2.mp4: 384x640 1 potted plant, 101.6ms\n",
            "video 1/1 (frame 455/604) /content/cars2.mp4: 384x640 1 boat, 1 potted plant, 103.1ms\n",
            "video 1/1 (frame 456/604) /content/cars2.mp4: 384x640 (no detections), 102.4ms\n",
            "video 1/1 (frame 457/604) /content/cars2.mp4: 384x640 (no detections), 104.7ms\n",
            "video 1/1 (frame 458/604) /content/cars2.mp4: 384x640 (no detections), 102.7ms\n",
            "video 1/1 (frame 459/604) /content/cars2.mp4: 384x640 (no detections), 102.1ms\n",
            "video 1/1 (frame 460/604) /content/cars2.mp4: 384x640 (no detections), 101.7ms\n",
            "video 1/1 (frame 461/604) /content/cars2.mp4: 384x640 (no detections), 104.2ms\n",
            "video 1/1 (frame 462/604) /content/cars2.mp4: 384x640 (no detections), 102.3ms\n",
            "video 1/1 (frame 463/604) /content/cars2.mp4: 384x640 (no detections), 102.0ms\n",
            "video 1/1 (frame 464/604) /content/cars2.mp4: 384x640 (no detections), 109.9ms\n",
            "video 1/1 (frame 465/604) /content/cars2.mp4: 384x640 (no detections), 100.7ms\n",
            "video 1/1 (frame 466/604) /content/cars2.mp4: 384x640 (no detections), 103.6ms\n",
            "video 1/1 (frame 467/604) /content/cars2.mp4: 384x640 (no detections), 102.8ms\n",
            "video 1/1 (frame 468/604) /content/cars2.mp4: 384x640 (no detections), 101.5ms\n",
            "video 1/1 (frame 469/604) /content/cars2.mp4: 384x640 (no detections), 105.2ms\n",
            "video 1/1 (frame 470/604) /content/cars2.mp4: 384x640 (no detections), 103.2ms\n",
            "video 1/1 (frame 471/604) /content/cars2.mp4: 384x640 (no detections), 101.3ms\n",
            "video 1/1 (frame 472/604) /content/cars2.mp4: 384x640 (no detections), 104.3ms\n",
            "video 1/1 (frame 473/604) /content/cars2.mp4: 384x640 1 potted plant, 103.2ms\n",
            "video 1/1 (frame 474/604) /content/cars2.mp4: 384x640 1 potted plant, 101.6ms\n",
            "video 1/1 (frame 475/604) /content/cars2.mp4: 384x640 (no detections), 101.5ms\n",
            "video 1/1 (frame 476/604) /content/cars2.mp4: 384x640 1 potted plant, 102.2ms\n",
            "video 1/1 (frame 477/604) /content/cars2.mp4: 384x640 (no detections), 102.1ms\n",
            "video 1/1 (frame 478/604) /content/cars2.mp4: 384x640 1 potted plant, 104.3ms\n",
            "video 1/1 (frame 479/604) /content/cars2.mp4: 384x640 (no detections), 101.3ms\n",
            "video 1/1 (frame 480/604) /content/cars2.mp4: 384x640 (no detections), 102.6ms\n",
            "video 1/1 (frame 481/604) /content/cars2.mp4: 384x640 (no detections), 114.4ms\n",
            "video 1/1 (frame 482/604) /content/cars2.mp4: 384x640 (no detections), 102.7ms\n",
            "video 1/1 (frame 483/604) /content/cars2.mp4: 384x640 (no detections), 105.7ms\n",
            "video 1/1 (frame 484/604) /content/cars2.mp4: 384x640 (no detections), 101.5ms\n",
            "video 1/1 (frame 485/604) /content/cars2.mp4: 384x640 (no detections), 104.6ms\n",
            "video 1/1 (frame 486/604) /content/cars2.mp4: 384x640 1 potted plant, 102.8ms\n",
            "video 1/1 (frame 487/604) /content/cars2.mp4: 384x640 (no detections), 103.4ms\n",
            "video 1/1 (frame 488/604) /content/cars2.mp4: 384x640 1 potted plant, 101.8ms\n",
            "video 1/1 (frame 489/604) /content/cars2.mp4: 384x640 1 potted plant, 105.2ms\n",
            "video 1/1 (frame 490/604) /content/cars2.mp4: 384x640 1 potted plant, 102.4ms\n",
            "video 1/1 (frame 491/604) /content/cars2.mp4: 384x640 1 potted plant, 103.3ms\n",
            "video 1/1 (frame 492/604) /content/cars2.mp4: 384x640 1 potted plant, 103.8ms\n",
            "video 1/1 (frame 493/604) /content/cars2.mp4: 384x640 1 potted plant, 102.3ms\n",
            "video 1/1 (frame 494/604) /content/cars2.mp4: 384x640 1 potted plant, 102.1ms\n",
            "video 1/1 (frame 495/604) /content/cars2.mp4: 384x640 1 potted plant, 102.7ms\n",
            "video 1/1 (frame 496/604) /content/cars2.mp4: 384x640 1 potted plant, 102.5ms\n",
            "video 1/1 (frame 497/604) /content/cars2.mp4: 384x640 2 potted plants, 102.3ms\n",
            "video 1/1 (frame 498/604) /content/cars2.mp4: 384x640 2 potted plants, 102.2ms\n",
            "video 1/1 (frame 499/604) /content/cars2.mp4: 384x640 (no detections), 104.3ms\n",
            "video 1/1 (frame 500/604) /content/cars2.mp4: 384x640 (no detections), 103.3ms\n",
            "video 1/1 (frame 501/604) /content/cars2.mp4: 384x640 (no detections), 107.3ms\n",
            "video 1/1 (frame 502/604) /content/cars2.mp4: 384x640 (no detections), 102.1ms\n",
            "video 1/1 (frame 503/604) /content/cars2.mp4: 384x640 (no detections), 103.3ms\n",
            "video 1/1 (frame 504/604) /content/cars2.mp4: 384x640 (no detections), 103.8ms\n",
            "video 1/1 (frame 505/604) /content/cars2.mp4: 384x640 (no detections), 102.3ms\n",
            "video 1/1 (frame 506/604) /content/cars2.mp4: 384x640 (no detections), 106.3ms\n",
            "video 1/1 (frame 507/604) /content/cars2.mp4: 384x640 1 potted plant, 103.0ms\n",
            "video 1/1 (frame 508/604) /content/cars2.mp4: 384x640 1 potted plant, 104.7ms\n",
            "video 1/1 (frame 509/604) /content/cars2.mp4: 384x640 1 potted plant, 102.7ms\n",
            "video 1/1 (frame 510/604) /content/cars2.mp4: 384x640 2 potted plants, 101.4ms\n",
            "video 1/1 (frame 511/604) /content/cars2.mp4: 384x640 2 potted plants, 102.6ms\n",
            "video 1/1 (frame 512/604) /content/cars2.mp4: 384x640 2 potted plants, 102.3ms\n",
            "video 1/1 (frame 513/604) /content/cars2.mp4: 384x640 (no detections), 104.2ms\n",
            "video 1/1 (frame 514/604) /content/cars2.mp4: 384x640 (no detections), 104.0ms\n",
            "video 1/1 (frame 515/604) /content/cars2.mp4: 384x640 1 potted plant, 101.4ms\n",
            "video 1/1 (frame 516/604) /content/cars2.mp4: 384x640 1 potted plant, 103.7ms\n",
            "video 1/1 (frame 517/604) /content/cars2.mp4: 384x640 1 potted plant, 103.9ms\n",
            "video 1/1 (frame 518/604) /content/cars2.mp4: 384x640 1 potted plant, 102.1ms\n",
            "video 1/1 (frame 519/604) /content/cars2.mp4: 384x640 1 potted plant, 103.5ms\n",
            "video 1/1 (frame 520/604) /content/cars2.mp4: 384x640 1 potted plant, 103.3ms\n",
            "video 1/1 (frame 521/604) /content/cars2.mp4: 384x640 1 potted plant, 102.7ms\n",
            "video 1/1 (frame 522/604) /content/cars2.mp4: 384x640 1 potted plant, 102.1ms\n",
            "video 1/1 (frame 523/604) /content/cars2.mp4: 384x640 1 potted plant, 103.5ms\n",
            "video 1/1 (frame 524/604) /content/cars2.mp4: 384x640 1 potted plant, 104.9ms\n",
            "video 1/1 (frame 525/604) /content/cars2.mp4: 384x640 (no detections), 103.1ms\n",
            "video 1/1 (frame 526/604) /content/cars2.mp4: 384x640 (no detections), 102.3ms\n",
            "video 1/1 (frame 527/604) /content/cars2.mp4: 384x640 (no detections), 105.3ms\n",
            "video 1/1 (frame 528/604) /content/cars2.mp4: 384x640 1 potted plant, 102.3ms\n",
            "video 1/1 (frame 529/604) /content/cars2.mp4: 384x640 2 potted plants, 104.0ms\n",
            "video 1/1 (frame 530/604) /content/cars2.mp4: 384x640 1 potted plant, 102.6ms\n",
            "video 1/1 (frame 531/604) /content/cars2.mp4: 384x640 1 potted plant, 101.7ms\n",
            "video 1/1 (frame 532/604) /content/cars2.mp4: 384x640 1 potted plant, 102.6ms\n",
            "video 1/1 (frame 533/604) /content/cars2.mp4: 384x640 1 potted plant, 105.2ms\n",
            "video 1/1 (frame 534/604) /content/cars2.mp4: 384x640 1 potted plant, 103.2ms\n",
            "video 1/1 (frame 535/604) /content/cars2.mp4: 384x640 1 potted plant, 128.3ms\n",
            "video 1/1 (frame 536/604) /content/cars2.mp4: 384x640 1 potted plant, 101.4ms\n",
            "video 1/1 (frame 537/604) /content/cars2.mp4: 384x640 2 potted plants, 105.0ms\n",
            "video 1/1 (frame 538/604) /content/cars2.mp4: 384x640 2 potted plants, 104.3ms\n",
            "video 1/1 (frame 539/604) /content/cars2.mp4: 384x640 2 potted plants, 103.6ms\n",
            "video 1/1 (frame 540/604) /content/cars2.mp4: 384x640 3 potted plants, 102.4ms\n",
            "video 1/1 (frame 541/604) /content/cars2.mp4: 384x640 3 potted plants, 103.2ms\n",
            "video 1/1 (frame 542/604) /content/cars2.mp4: 384x640 2 potted plants, 105.9ms\n",
            "video 1/1 (frame 543/604) /content/cars2.mp4: 384x640 2 potted plants, 103.3ms\n",
            "video 1/1 (frame 544/604) /content/cars2.mp4: 384x640 1 potted plant, 102.6ms\n",
            "video 1/1 (frame 545/604) /content/cars2.mp4: 384x640 1 potted plant, 102.5ms\n",
            "video 1/1 (frame 546/604) /content/cars2.mp4: 384x640 (no detections), 101.9ms\n",
            "video 1/1 (frame 547/604) /content/cars2.mp4: 384x640 1 potted plant, 105.7ms\n",
            "video 1/1 (frame 548/604) /content/cars2.mp4: 384x640 (no detections), 103.2ms\n",
            "video 1/1 (frame 549/604) /content/cars2.mp4: 384x640 (no detections), 102.6ms\n",
            "video 1/1 (frame 550/604) /content/cars2.mp4: 384x640 2 potted plants, 106.2ms\n",
            "video 1/1 (frame 551/604) /content/cars2.mp4: 384x640 2 potted plants, 102.9ms\n",
            "video 1/1 (frame 552/604) /content/cars2.mp4: 384x640 (no detections), 102.1ms\n",
            "video 1/1 (frame 553/604) /content/cars2.mp4: 384x640 (no detections), 106.4ms\n",
            "video 1/1 (frame 554/604) /content/cars2.mp4: 384x640 1 potted plant, 103.5ms\n",
            "video 1/1 (frame 555/604) /content/cars2.mp4: 384x640 1 potted plant, 101.6ms\n",
            "video 1/1 (frame 556/604) /content/cars2.mp4: 384x640 1 potted plant, 104.2ms\n",
            "video 1/1 (frame 557/604) /content/cars2.mp4: 384x640 1 potted plant, 104.8ms\n",
            "video 1/1 (frame 558/604) /content/cars2.mp4: 384x640 1 potted plant, 102.5ms\n",
            "video 1/1 (frame 559/604) /content/cars2.mp4: 384x640 1 potted plant, 103.0ms\n",
            "video 1/1 (frame 560/604) /content/cars2.mp4: 384x640 1 potted plant, 103.1ms\n",
            "video 1/1 (frame 561/604) /content/cars2.mp4: 384x640 (no detections), 105.0ms\n",
            "video 1/1 (frame 562/604) /content/cars2.mp4: 384x640 1 potted plant, 103.5ms\n",
            "video 1/1 (frame 563/604) /content/cars2.mp4: 384x640 (no detections), 102.9ms\n",
            "video 1/1 (frame 564/604) /content/cars2.mp4: 384x640 (no detections), 105.8ms\n",
            "video 1/1 (frame 565/604) /content/cars2.mp4: 384x640 (no detections), 102.7ms\n",
            "video 1/1 (frame 566/604) /content/cars2.mp4: 384x640 1 potted plant, 105.9ms\n",
            "video 1/1 (frame 567/604) /content/cars2.mp4: 384x640 1 potted plant, 102.8ms\n",
            "video 1/1 (frame 568/604) /content/cars2.mp4: 384x640 (no detections), 101.9ms\n",
            "video 1/1 (frame 569/604) /content/cars2.mp4: 384x640 1 potted plant, 106.1ms\n",
            "video 1/1 (frame 570/604) /content/cars2.mp4: 384x640 1 potted plant, 104.2ms\n",
            "video 1/1 (frame 571/604) /content/cars2.mp4: 384x640 (no detections), 102.9ms\n",
            "video 1/1 (frame 572/604) /content/cars2.mp4: 384x640 (no detections), 105.3ms\n",
            "video 1/1 (frame 573/604) /content/cars2.mp4: 384x640 (no detections), 104.2ms\n",
            "video 1/1 (frame 574/604) /content/cars2.mp4: 384x640 (no detections), 102.5ms\n",
            "video 1/1 (frame 575/604) /content/cars2.mp4: 384x640 (no detections), 104.9ms\n",
            "video 1/1 (frame 576/604) /content/cars2.mp4: 384x640 (no detections), 102.7ms\n",
            "video 1/1 (frame 577/604) /content/cars2.mp4: 384x640 1 potted plant, 106.1ms\n",
            "video 1/1 (frame 578/604) /content/cars2.mp4: 384x640 1 potted plant, 103.1ms\n",
            "video 1/1 (frame 579/604) /content/cars2.mp4: 384x640 1 potted plant, 102.5ms\n",
            "video 1/1 (frame 580/604) /content/cars2.mp4: 384x640 1 potted plant, 104.7ms\n",
            "video 1/1 (frame 581/604) /content/cars2.mp4: 384x640 1 potted plant, 104.0ms\n",
            "video 1/1 (frame 582/604) /content/cars2.mp4: 384x640 2 potted plants, 103.4ms\n",
            "video 1/1 (frame 583/604) /content/cars2.mp4: 384x640 1 potted plant, 102.3ms\n",
            "video 1/1 (frame 584/604) /content/cars2.mp4: 384x640 (no detections), 103.3ms\n",
            "video 1/1 (frame 585/604) /content/cars2.mp4: 384x640 (no detections), 105.7ms\n",
            "video 1/1 (frame 586/604) /content/cars2.mp4: 384x640 (no detections), 102.9ms\n",
            "video 1/1 (frame 587/604) /content/cars2.mp4: 384x640 (no detections), 106.1ms\n",
            "video 1/1 (frame 588/604) /content/cars2.mp4: 384x640 (no detections), 103.0ms\n",
            "video 1/1 (frame 589/604) /content/cars2.mp4: 384x640 (no detections), 106.0ms\n",
            "video 1/1 (frame 590/604) /content/cars2.mp4: 384x640 (no detections), 104.0ms\n",
            "video 1/1 (frame 591/604) /content/cars2.mp4: 384x640 (no detections), 103.8ms\n",
            "video 1/1 (frame 592/604) /content/cars2.mp4: 384x640 (no detections), 106.1ms\n",
            "video 1/1 (frame 593/604) /content/cars2.mp4: 384x640 (no detections), 103.2ms\n",
            "video 1/1 (frame 594/604) /content/cars2.mp4: 384x640 (no detections), 102.6ms\n",
            "video 1/1 (frame 595/604) /content/cars2.mp4: 384x640 (no detections), 103.7ms\n",
            "video 1/1 (frame 596/604) /content/cars2.mp4: 384x640 (no detections), 103.3ms\n",
            "video 1/1 (frame 597/604) /content/cars2.mp4: 384x640 1 potted plant, 104.0ms\n",
            "video 1/1 (frame 598/604) /content/cars2.mp4: 384x640 1 potted plant, 102.6ms\n",
            "video 1/1 (frame 599/604) /content/cars2.mp4: 384x640 (no detections), 102.6ms\n",
            "video 1/1 (frame 600/604) /content/cars2.mp4: 384x640 (no detections), 103.9ms\n",
            "video 1/1 (frame 601/604) /content/cars2.mp4: 384x640 (no detections), 104.6ms\n",
            "video 1/1 (frame 602/604) /content/cars2.mp4: 384x640 (no detections), 103.5ms\n",
            "video 1/1 (frame 603/604) /content/cars2.mp4: 384x640 (no detections), 101.6ms\n",
            "video 1/1 (frame 604/604) /content/cars2.mp4: 384x640 (no detections), 104.7ms\n",
            "Speed: 2.5ms preprocess, 103.1ms inference, 2.0ms postprocess per image at shape (1, 3, 384, 640)\n",
            "Results saved to \u001b[1mruns/segment/predict8\u001b[0m\n"
          ]
        }
      ]
    },
    {
      "cell_type": "code",
      "source": [],
      "metadata": {
        "id": "ubvaiWph8nAM"
      },
      "execution_count": null,
      "outputs": []
    }
  ]
}